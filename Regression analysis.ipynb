{
  "cells": [
    {
      "cell_type": "markdown",
      "metadata": {
        "id": "view-in-github",
        "colab_type": "text"
      },
      "source": [
        "<a href=\"https://colab.research.google.com/github/vishanth10/MLProjects/blob/main/Project_Exercise_1_Group_3.ipynb\" target=\"_parent\"><img src=\"https://colab.research.google.com/assets/colab-badge.svg\" alt=\"Open In Colab\"/></a>"
      ]
    },
    {
      "cell_type": "markdown",
      "metadata": {
        "id": "E8A0yIDCtJLa"
      },
      "source": [
        "# Homework 1 - Linear Regression\n",
        "\n",
        "## Group 3\n",
        "#### BALASUBRAMANIAN, VISHANTH HARI RAJ (he/him)\n",
        "#### DERAKHSHANDAVARI, AMIRREZA\n",
        "#### SAHAKYAN, ELEN\n",
        "#### ZARINIAN, SUREN\n",
        "#### ZHAO, PEILIN\n",
        "\\\n",
        "\n",
        "## Dataset\n",
        "The dataset you will be using is about Life expectancy of different countries. We will explore how immunization factors, mortality factors, economic factors, social factors and other health related factors affect Life expectancy of a country.\n",
        "\n",
        "There are two data files: \"LifeExpectancy_training_modified.csv\" and \"LifeExpectancy_test_modified.csv\"<br/>\n",
        "Both files have the following fields, except Life_expectancy which is not available in \"LifeExpectancy_test_modified.csv\"\n",
        "\n",
        "Features :\n",
        "- Year : from 2002 to 2015\n",
        "- Status : Developed or Developing status\n",
        "- Adult_Mortality : Adult Mortality Rates of both sexes (probability of dying between 15 and 60 years per 1000 population)\n",
        "- Alcohol : Alcohol, recorded per capita (15+) consumption (in litres of pure alcohol)\n",
        "- percentage_expenditure : Expenditure on health as a percentage of Gross Domestic Product per capita(%)\n",
        "- BMI: Average Body Mass Index of entire population\n",
        "- Total_expenditure: General government expenditure on health as a percentage of total government expenditure (%)\n",
        "- Diphtheria: Diphtheria tetanus toxoid and pertussis (DTP3) immunization coverage among 1-year-olds (%)\n",
        "- HIV_AIDS: Deaths per 1000 live births HIV/AIDS (0-4 years)\n",
        "- GDP: Gross Domestic Product per capita (in USD)\n",
        "- Population\n",
        "- Income_composition_of_resources: Human Development Index in terms of income composition of resources (index ranging from 0 to 1)\n",
        "- Schooling: Number of years of Schooling(years)\n",
        "- Health_Index: Health index\n",
        "\n",
        "Target:\n",
        "- Life_expectancy: Life Expectancy in age\n",
        "\n",
        "\n",
        "Training dataset, \"LifeExpectancy_training_modified.csv\", contains 1064 rows and 15 columns. This is the training set containing both of the features and the target.<br/>\n",
        "Test dataset, \"LifeExpectancy_test_modified.csv\", contains 458 rows and 14 columns. This is the test set which only contains the features.<br/>\n",
        "\n",
        "Your goal is to predict Life expectancy based on the features."
      ]
    },
    {
      "cell_type": "markdown",
      "source": [
        "### Importing libraries"
      ],
      "metadata": {
        "id": "LEovtdQp4OaD"
      }
    },
    {
      "cell_type": "code",
      "execution_count": null,
      "metadata": {
        "id": "xwWTXsa30LLu"
      },
      "outputs": [],
      "source": [
        "import numpy as np\n",
        "import pandas as pd\n",
        "import seaborn as sns\n",
        "import matplotlib.pyplot as plt\n",
        "import statsmodels.api as sm\n",
        "from sklearn.metrics import mean_squared_error\n",
        "import sys\n",
        "from sklearn.metrics import r2_score\n",
        "import pandas as pd\n",
        "from sklearn.linear_model import LinearRegression"
      ]
    },
    {
      "cell_type": "markdown",
      "metadata": {
        "id": "JGLaGzbL0jdH"
      },
      "source": [
        "### Loading the Training Dataset"
      ]
    },
    {
      "cell_type": "code",
      "execution_count": null,
      "metadata": {
        "id": "u5oaCEzI0se8",
        "colab": {
          "base_uri": "https://localhost:8080/",
          "height": 74
        },
        "outputId": "642e5cd0-f343-4dbb-b467-515205fe1cad"
      },
      "outputs": [
        {
          "output_type": "display_data",
          "data": {
            "text/plain": [
              "<IPython.core.display.HTML object>"
            ],
            "text/html": [
              "\n",
              "     <input type=\"file\" id=\"files-0eff1187-6763-4367-bb1e-889569a47491\" name=\"files[]\" multiple disabled\n",
              "        style=\"border:none\" />\n",
              "     <output id=\"result-0eff1187-6763-4367-bb1e-889569a47491\">\n",
              "      Upload widget is only available when the cell has been executed in the\n",
              "      current browser session. Please rerun this cell to enable.\n",
              "      </output>\n",
              "      <script>// Copyright 2017 Google LLC\n",
              "//\n",
              "// Licensed under the Apache License, Version 2.0 (the \"License\");\n",
              "// you may not use this file except in compliance with the License.\n",
              "// You may obtain a copy of the License at\n",
              "//\n",
              "//      http://www.apache.org/licenses/LICENSE-2.0\n",
              "//\n",
              "// Unless required by applicable law or agreed to in writing, software\n",
              "// distributed under the License is distributed on an \"AS IS\" BASIS,\n",
              "// WITHOUT WARRANTIES OR CONDITIONS OF ANY KIND, either express or implied.\n",
              "// See the License for the specific language governing permissions and\n",
              "// limitations under the License.\n",
              "\n",
              "/**\n",
              " * @fileoverview Helpers for google.colab Python module.\n",
              " */\n",
              "(function(scope) {\n",
              "function span(text, styleAttributes = {}) {\n",
              "  const element = document.createElement('span');\n",
              "  element.textContent = text;\n",
              "  for (const key of Object.keys(styleAttributes)) {\n",
              "    element.style[key] = styleAttributes[key];\n",
              "  }\n",
              "  return element;\n",
              "}\n",
              "\n",
              "// Max number of bytes which will be uploaded at a time.\n",
              "const MAX_PAYLOAD_SIZE = 100 * 1024;\n",
              "\n",
              "function _uploadFiles(inputId, outputId) {\n",
              "  const steps = uploadFilesStep(inputId, outputId);\n",
              "  const outputElement = document.getElementById(outputId);\n",
              "  // Cache steps on the outputElement to make it available for the next call\n",
              "  // to uploadFilesContinue from Python.\n",
              "  outputElement.steps = steps;\n",
              "\n",
              "  return _uploadFilesContinue(outputId);\n",
              "}\n",
              "\n",
              "// This is roughly an async generator (not supported in the browser yet),\n",
              "// where there are multiple asynchronous steps and the Python side is going\n",
              "// to poll for completion of each step.\n",
              "// This uses a Promise to block the python side on completion of each step,\n",
              "// then passes the result of the previous step as the input to the next step.\n",
              "function _uploadFilesContinue(outputId) {\n",
              "  const outputElement = document.getElementById(outputId);\n",
              "  const steps = outputElement.steps;\n",
              "\n",
              "  const next = steps.next(outputElement.lastPromiseValue);\n",
              "  return Promise.resolve(next.value.promise).then((value) => {\n",
              "    // Cache the last promise value to make it available to the next\n",
              "    // step of the generator.\n",
              "    outputElement.lastPromiseValue = value;\n",
              "    return next.value.response;\n",
              "  });\n",
              "}\n",
              "\n",
              "/**\n",
              " * Generator function which is called between each async step of the upload\n",
              " * process.\n",
              " * @param {string} inputId Element ID of the input file picker element.\n",
              " * @param {string} outputId Element ID of the output display.\n",
              " * @return {!Iterable<!Object>} Iterable of next steps.\n",
              " */\n",
              "function* uploadFilesStep(inputId, outputId) {\n",
              "  const inputElement = document.getElementById(inputId);\n",
              "  inputElement.disabled = false;\n",
              "\n",
              "  const outputElement = document.getElementById(outputId);\n",
              "  outputElement.innerHTML = '';\n",
              "\n",
              "  const pickedPromise = new Promise((resolve) => {\n",
              "    inputElement.addEventListener('change', (e) => {\n",
              "      resolve(e.target.files);\n",
              "    });\n",
              "  });\n",
              "\n",
              "  const cancel = document.createElement('button');\n",
              "  inputElement.parentElement.appendChild(cancel);\n",
              "  cancel.textContent = 'Cancel upload';\n",
              "  const cancelPromise = new Promise((resolve) => {\n",
              "    cancel.onclick = () => {\n",
              "      resolve(null);\n",
              "    };\n",
              "  });\n",
              "\n",
              "  // Wait for the user to pick the files.\n",
              "  const files = yield {\n",
              "    promise: Promise.race([pickedPromise, cancelPromise]),\n",
              "    response: {\n",
              "      action: 'starting',\n",
              "    }\n",
              "  };\n",
              "\n",
              "  cancel.remove();\n",
              "\n",
              "  // Disable the input element since further picks are not allowed.\n",
              "  inputElement.disabled = true;\n",
              "\n",
              "  if (!files) {\n",
              "    return {\n",
              "      response: {\n",
              "        action: 'complete',\n",
              "      }\n",
              "    };\n",
              "  }\n",
              "\n",
              "  for (const file of files) {\n",
              "    const li = document.createElement('li');\n",
              "    li.append(span(file.name, {fontWeight: 'bold'}));\n",
              "    li.append(span(\n",
              "        `(${file.type || 'n/a'}) - ${file.size} bytes, ` +\n",
              "        `last modified: ${\n",
              "            file.lastModifiedDate ? file.lastModifiedDate.toLocaleDateString() :\n",
              "                                    'n/a'} - `));\n",
              "    const percent = span('0% done');\n",
              "    li.appendChild(percent);\n",
              "\n",
              "    outputElement.appendChild(li);\n",
              "\n",
              "    const fileDataPromise = new Promise((resolve) => {\n",
              "      const reader = new FileReader();\n",
              "      reader.onload = (e) => {\n",
              "        resolve(e.target.result);\n",
              "      };\n",
              "      reader.readAsArrayBuffer(file);\n",
              "    });\n",
              "    // Wait for the data to be ready.\n",
              "    let fileData = yield {\n",
              "      promise: fileDataPromise,\n",
              "      response: {\n",
              "        action: 'continue',\n",
              "      }\n",
              "    };\n",
              "\n",
              "    // Use a chunked sending to avoid message size limits. See b/62115660.\n",
              "    let position = 0;\n",
              "    do {\n",
              "      const length = Math.min(fileData.byteLength - position, MAX_PAYLOAD_SIZE);\n",
              "      const chunk = new Uint8Array(fileData, position, length);\n",
              "      position += length;\n",
              "\n",
              "      const base64 = btoa(String.fromCharCode.apply(null, chunk));\n",
              "      yield {\n",
              "        response: {\n",
              "          action: 'append',\n",
              "          file: file.name,\n",
              "          data: base64,\n",
              "        },\n",
              "      };\n",
              "\n",
              "      let percentDone = fileData.byteLength === 0 ?\n",
              "          100 :\n",
              "          Math.round((position / fileData.byteLength) * 100);\n",
              "      percent.textContent = `${percentDone}% done`;\n",
              "\n",
              "    } while (position < fileData.byteLength);\n",
              "  }\n",
              "\n",
              "  // All done.\n",
              "  yield {\n",
              "    response: {\n",
              "      action: 'complete',\n",
              "    }\n",
              "  };\n",
              "}\n",
              "\n",
              "scope.google = scope.google || {};\n",
              "scope.google.colab = scope.google.colab || {};\n",
              "scope.google.colab._files = {\n",
              "  _uploadFiles,\n",
              "  _uploadFilesContinue,\n",
              "};\n",
              "})(self);\n",
              "</script> "
            ]
          },
          "metadata": {}
        },
        {
          "output_type": "stream",
          "name": "stdout",
          "text": [
            "Saving LifeExpectancy_training_modified.csv to LifeExpectancy_training_modified.csv\n"
          ]
        }
      ],
      "source": [
        "from google.colab import files\n",
        "uploaded = files.upload()\n",
        "import io"
      ]
    },
    {
      "cell_type": "code",
      "execution_count": null,
      "metadata": {
        "id": "viQgJ6uy03nd"
      },
      "outputs": [],
      "source": [
        "# Load the training data\n",
        "df = pd.read_csv(io.BytesIO(uploaded['LifeExpectancy_training_modified.csv']))"
      ]
    },
    {
      "cell_type": "code",
      "execution_count": null,
      "metadata": {
        "id": "bTxYGeoSxcKs",
        "colab": {
          "base_uri": "https://localhost:8080/",
          "height": 226
        },
        "outputId": "234ed6eb-90d4-440f-a610-3d9a882b14ca"
      },
      "outputs": [
        {
          "output_type": "execute_result",
          "data": {
            "text/plain": [
              "   Year      Status  Adult_Mortality  Alcohol  percentage_expenditure   BMI  \\\n",
              "0  2011  Developing               93     1.57              835.062683  64.0   \n",
              "1  2014  Developing              152     6.41              789.077295  32.4   \n",
              "2  2013   Developed               68    11.82               90.585012  56.6   \n",
              "3  2014   Developed              135     0.01                1.576409  59.9   \n",
              "4  2002  Developing              192     5.93               27.638103   2.2   \n",
              "\n",
              "   Total_expenditure  Diphtheria  HIV_AIDS         GDP  Population  \\\n",
              "0               7.12          81       0.1  8734.96530   4588368.0   \n",
              "1               4.12          99       0.1  5941.84710  68416772.0   \n",
              "2              11.14          95       0.1   554.71532   8479375.0   \n",
              "3               5.57          94       0.1    12.27733   1998979.0   \n",
              "4               3.70          96       0.7   296.54617   6473164.0   \n",
              "\n",
              "   Income_composition_of_resources  Schooling  Health_Index  Life_expectancy  \n",
              "0                            0.758       13.2      0.475880             75.0  \n",
              "1                            0.737       13.6      0.203275             74.6  \n",
              "2                            0.887       15.7      0.913847             81.1  \n",
              "3                            0.797       14.7      0.275401             74.8  \n",
              "4                            0.657       11.5      0.400974             71.4  "
            ],
            "text/html": [
              "\n",
              "  <div id=\"df-987778c7-e3d0-4f5a-b2ce-196c5128954b\" class=\"colab-df-container\">\n",
              "    <div>\n",
              "<style scoped>\n",
              "    .dataframe tbody tr th:only-of-type {\n",
              "        vertical-align: middle;\n",
              "    }\n",
              "\n",
              "    .dataframe tbody tr th {\n",
              "        vertical-align: top;\n",
              "    }\n",
              "\n",
              "    .dataframe thead th {\n",
              "        text-align: right;\n",
              "    }\n",
              "</style>\n",
              "<table border=\"1\" class=\"dataframe\">\n",
              "  <thead>\n",
              "    <tr style=\"text-align: right;\">\n",
              "      <th></th>\n",
              "      <th>Year</th>\n",
              "      <th>Status</th>\n",
              "      <th>Adult_Mortality</th>\n",
              "      <th>Alcohol</th>\n",
              "      <th>percentage_expenditure</th>\n",
              "      <th>BMI</th>\n",
              "      <th>Total_expenditure</th>\n",
              "      <th>Diphtheria</th>\n",
              "      <th>HIV_AIDS</th>\n",
              "      <th>GDP</th>\n",
              "      <th>Population</th>\n",
              "      <th>Income_composition_of_resources</th>\n",
              "      <th>Schooling</th>\n",
              "      <th>Health_Index</th>\n",
              "      <th>Life_expectancy</th>\n",
              "    </tr>\n",
              "  </thead>\n",
              "  <tbody>\n",
              "    <tr>\n",
              "      <th>0</th>\n",
              "      <td>2011</td>\n",
              "      <td>Developing</td>\n",
              "      <td>93</td>\n",
              "      <td>1.57</td>\n",
              "      <td>835.062683</td>\n",
              "      <td>64.0</td>\n",
              "      <td>7.12</td>\n",
              "      <td>81</td>\n",
              "      <td>0.1</td>\n",
              "      <td>8734.96530</td>\n",
              "      <td>4588368.0</td>\n",
              "      <td>0.758</td>\n",
              "      <td>13.2</td>\n",
              "      <td>0.475880</td>\n",
              "      <td>75.0</td>\n",
              "    </tr>\n",
              "    <tr>\n",
              "      <th>1</th>\n",
              "      <td>2014</td>\n",
              "      <td>Developing</td>\n",
              "      <td>152</td>\n",
              "      <td>6.41</td>\n",
              "      <td>789.077295</td>\n",
              "      <td>32.4</td>\n",
              "      <td>4.12</td>\n",
              "      <td>99</td>\n",
              "      <td>0.1</td>\n",
              "      <td>5941.84710</td>\n",
              "      <td>68416772.0</td>\n",
              "      <td>0.737</td>\n",
              "      <td>13.6</td>\n",
              "      <td>0.203275</td>\n",
              "      <td>74.6</td>\n",
              "    </tr>\n",
              "    <tr>\n",
              "      <th>2</th>\n",
              "      <td>2013</td>\n",
              "      <td>Developed</td>\n",
              "      <td>68</td>\n",
              "      <td>11.82</td>\n",
              "      <td>90.585012</td>\n",
              "      <td>56.6</td>\n",
              "      <td>11.14</td>\n",
              "      <td>95</td>\n",
              "      <td>0.1</td>\n",
              "      <td>554.71532</td>\n",
              "      <td>8479375.0</td>\n",
              "      <td>0.887</td>\n",
              "      <td>15.7</td>\n",
              "      <td>0.913847</td>\n",
              "      <td>81.1</td>\n",
              "    </tr>\n",
              "    <tr>\n",
              "      <th>3</th>\n",
              "      <td>2014</td>\n",
              "      <td>Developed</td>\n",
              "      <td>135</td>\n",
              "      <td>0.01</td>\n",
              "      <td>1.576409</td>\n",
              "      <td>59.9</td>\n",
              "      <td>5.57</td>\n",
              "      <td>94</td>\n",
              "      <td>0.1</td>\n",
              "      <td>12.27733</td>\n",
              "      <td>1998979.0</td>\n",
              "      <td>0.797</td>\n",
              "      <td>14.7</td>\n",
              "      <td>0.275401</td>\n",
              "      <td>74.8</td>\n",
              "    </tr>\n",
              "    <tr>\n",
              "      <th>4</th>\n",
              "      <td>2002</td>\n",
              "      <td>Developing</td>\n",
              "      <td>192</td>\n",
              "      <td>5.93</td>\n",
              "      <td>27.638103</td>\n",
              "      <td>2.2</td>\n",
              "      <td>3.70</td>\n",
              "      <td>96</td>\n",
              "      <td>0.7</td>\n",
              "      <td>296.54617</td>\n",
              "      <td>6473164.0</td>\n",
              "      <td>0.657</td>\n",
              "      <td>11.5</td>\n",
              "      <td>0.400974</td>\n",
              "      <td>71.4</td>\n",
              "    </tr>\n",
              "  </tbody>\n",
              "</table>\n",
              "</div>\n",
              "    <div class=\"colab-df-buttons\">\n",
              "\n",
              "  <div class=\"colab-df-container\">\n",
              "    <button class=\"colab-df-convert\" onclick=\"convertToInteractive('df-987778c7-e3d0-4f5a-b2ce-196c5128954b')\"\n",
              "            title=\"Convert this dataframe to an interactive table.\"\n",
              "            style=\"display:none;\">\n",
              "\n",
              "  <svg xmlns=\"http://www.w3.org/2000/svg\" height=\"24px\" viewBox=\"0 -960 960 960\">\n",
              "    <path d=\"M120-120v-720h720v720H120Zm60-500h600v-160H180v160Zm220 220h160v-160H400v160Zm0 220h160v-160H400v160ZM180-400h160v-160H180v160Zm440 0h160v-160H620v160ZM180-180h160v-160H180v160Zm440 0h160v-160H620v160Z\"/>\n",
              "  </svg>\n",
              "    </button>\n",
              "\n",
              "  <style>\n",
              "    .colab-df-container {\n",
              "      display:flex;\n",
              "      gap: 12px;\n",
              "    }\n",
              "\n",
              "    .colab-df-convert {\n",
              "      background-color: #E8F0FE;\n",
              "      border: none;\n",
              "      border-radius: 50%;\n",
              "      cursor: pointer;\n",
              "      display: none;\n",
              "      fill: #1967D2;\n",
              "      height: 32px;\n",
              "      padding: 0 0 0 0;\n",
              "      width: 32px;\n",
              "    }\n",
              "\n",
              "    .colab-df-convert:hover {\n",
              "      background-color: #E2EBFA;\n",
              "      box-shadow: 0px 1px 2px rgba(60, 64, 67, 0.3), 0px 1px 3px 1px rgba(60, 64, 67, 0.15);\n",
              "      fill: #174EA6;\n",
              "    }\n",
              "\n",
              "    .colab-df-buttons div {\n",
              "      margin-bottom: 4px;\n",
              "    }\n",
              "\n",
              "    [theme=dark] .colab-df-convert {\n",
              "      background-color: #3B4455;\n",
              "      fill: #D2E3FC;\n",
              "    }\n",
              "\n",
              "    [theme=dark] .colab-df-convert:hover {\n",
              "      background-color: #434B5C;\n",
              "      box-shadow: 0px 1px 3px 1px rgba(0, 0, 0, 0.15);\n",
              "      filter: drop-shadow(0px 1px 2px rgba(0, 0, 0, 0.3));\n",
              "      fill: #FFFFFF;\n",
              "    }\n",
              "  </style>\n",
              "\n",
              "    <script>\n",
              "      const buttonEl =\n",
              "        document.querySelector('#df-987778c7-e3d0-4f5a-b2ce-196c5128954b button.colab-df-convert');\n",
              "      buttonEl.style.display =\n",
              "        google.colab.kernel.accessAllowed ? 'block' : 'none';\n",
              "\n",
              "      async function convertToInteractive(key) {\n",
              "        const element = document.querySelector('#df-987778c7-e3d0-4f5a-b2ce-196c5128954b');\n",
              "        const dataTable =\n",
              "          await google.colab.kernel.invokeFunction('convertToInteractive',\n",
              "                                                    [key], {});\n",
              "        if (!dataTable) return;\n",
              "\n",
              "        const docLinkHtml = 'Like what you see? Visit the ' +\n",
              "          '<a target=\"_blank\" href=https://colab.research.google.com/notebooks/data_table.ipynb>data table notebook</a>'\n",
              "          + ' to learn more about interactive tables.';\n",
              "        element.innerHTML = '';\n",
              "        dataTable['output_type'] = 'display_data';\n",
              "        await google.colab.output.renderOutput(dataTable, element);\n",
              "        const docLink = document.createElement('div');\n",
              "        docLink.innerHTML = docLinkHtml;\n",
              "        element.appendChild(docLink);\n",
              "      }\n",
              "    </script>\n",
              "  </div>\n",
              "\n",
              "\n",
              "<div id=\"df-d60b44b2-f377-4cf5-8046-362798832129\">\n",
              "  <button class=\"colab-df-quickchart\" onclick=\"quickchart('df-d60b44b2-f377-4cf5-8046-362798832129')\"\n",
              "            title=\"Suggest charts\"\n",
              "            style=\"display:none;\">\n",
              "\n",
              "<svg xmlns=\"http://www.w3.org/2000/svg\" height=\"24px\"viewBox=\"0 0 24 24\"\n",
              "     width=\"24px\">\n",
              "    <g>\n",
              "        <path d=\"M19 3H5c-1.1 0-2 .9-2 2v14c0 1.1.9 2 2 2h14c1.1 0 2-.9 2-2V5c0-1.1-.9-2-2-2zM9 17H7v-7h2v7zm4 0h-2V7h2v10zm4 0h-2v-4h2v4z\"/>\n",
              "    </g>\n",
              "</svg>\n",
              "  </button>\n",
              "\n",
              "<style>\n",
              "  .colab-df-quickchart {\n",
              "      --bg-color: #E8F0FE;\n",
              "      --fill-color: #1967D2;\n",
              "      --hover-bg-color: #E2EBFA;\n",
              "      --hover-fill-color: #174EA6;\n",
              "      --disabled-fill-color: #AAA;\n",
              "      --disabled-bg-color: #DDD;\n",
              "  }\n",
              "\n",
              "  [theme=dark] .colab-df-quickchart {\n",
              "      --bg-color: #3B4455;\n",
              "      --fill-color: #D2E3FC;\n",
              "      --hover-bg-color: #434B5C;\n",
              "      --hover-fill-color: #FFFFFF;\n",
              "      --disabled-bg-color: #3B4455;\n",
              "      --disabled-fill-color: #666;\n",
              "  }\n",
              "\n",
              "  .colab-df-quickchart {\n",
              "    background-color: var(--bg-color);\n",
              "    border: none;\n",
              "    border-radius: 50%;\n",
              "    cursor: pointer;\n",
              "    display: none;\n",
              "    fill: var(--fill-color);\n",
              "    height: 32px;\n",
              "    padding: 0;\n",
              "    width: 32px;\n",
              "  }\n",
              "\n",
              "  .colab-df-quickchart:hover {\n",
              "    background-color: var(--hover-bg-color);\n",
              "    box-shadow: 0 1px 2px rgba(60, 64, 67, 0.3), 0 1px 3px 1px rgba(60, 64, 67, 0.15);\n",
              "    fill: var(--button-hover-fill-color);\n",
              "  }\n",
              "\n",
              "  .colab-df-quickchart-complete:disabled,\n",
              "  .colab-df-quickchart-complete:disabled:hover {\n",
              "    background-color: var(--disabled-bg-color);\n",
              "    fill: var(--disabled-fill-color);\n",
              "    box-shadow: none;\n",
              "  }\n",
              "\n",
              "  .colab-df-spinner {\n",
              "    border: 2px solid var(--fill-color);\n",
              "    border-color: transparent;\n",
              "    border-bottom-color: var(--fill-color);\n",
              "    animation:\n",
              "      spin 1s steps(1) infinite;\n",
              "  }\n",
              "\n",
              "  @keyframes spin {\n",
              "    0% {\n",
              "      border-color: transparent;\n",
              "      border-bottom-color: var(--fill-color);\n",
              "      border-left-color: var(--fill-color);\n",
              "    }\n",
              "    20% {\n",
              "      border-color: transparent;\n",
              "      border-left-color: var(--fill-color);\n",
              "      border-top-color: var(--fill-color);\n",
              "    }\n",
              "    30% {\n",
              "      border-color: transparent;\n",
              "      border-left-color: var(--fill-color);\n",
              "      border-top-color: var(--fill-color);\n",
              "      border-right-color: var(--fill-color);\n",
              "    }\n",
              "    40% {\n",
              "      border-color: transparent;\n",
              "      border-right-color: var(--fill-color);\n",
              "      border-top-color: var(--fill-color);\n",
              "    }\n",
              "    60% {\n",
              "      border-color: transparent;\n",
              "      border-right-color: var(--fill-color);\n",
              "    }\n",
              "    80% {\n",
              "      border-color: transparent;\n",
              "      border-right-color: var(--fill-color);\n",
              "      border-bottom-color: var(--fill-color);\n",
              "    }\n",
              "    90% {\n",
              "      border-color: transparent;\n",
              "      border-bottom-color: var(--fill-color);\n",
              "    }\n",
              "  }\n",
              "</style>\n",
              "\n",
              "  <script>\n",
              "    async function quickchart(key) {\n",
              "      const quickchartButtonEl =\n",
              "        document.querySelector('#' + key + ' button');\n",
              "      quickchartButtonEl.disabled = true;  // To prevent multiple clicks.\n",
              "      quickchartButtonEl.classList.add('colab-df-spinner');\n",
              "      try {\n",
              "        const charts = await google.colab.kernel.invokeFunction(\n",
              "            'suggestCharts', [key], {});\n",
              "      } catch (error) {\n",
              "        console.error('Error during call to suggestCharts:', error);\n",
              "      }\n",
              "      quickchartButtonEl.classList.remove('colab-df-spinner');\n",
              "      quickchartButtonEl.classList.add('colab-df-quickchart-complete');\n",
              "    }\n",
              "    (() => {\n",
              "      let quickchartButtonEl =\n",
              "        document.querySelector('#df-d60b44b2-f377-4cf5-8046-362798832129 button');\n",
              "      quickchartButtonEl.style.display =\n",
              "        google.colab.kernel.accessAllowed ? 'block' : 'none';\n",
              "    })();\n",
              "  </script>\n",
              "</div>\n",
              "    </div>\n",
              "  </div>\n"
            ]
          },
          "metadata": {},
          "execution_count": 4
        }
      ],
      "source": [
        "# Show the first 5 lines\n",
        "df.head()"
      ]
    },
    {
      "cell_type": "markdown",
      "metadata": {
        "id": "kIRo3Da91IdF"
      },
      "source": [
        "## Data Exploration\n",
        "We can plot a histogram of the dataframe for the features except \"Status\" to understand their distributions. <br/>"
      ]
    },
    {
      "cell_type": "code",
      "execution_count": null,
      "metadata": {
        "id": "iemQk82B3Nam",
        "colab": {
          "base_uri": "https://localhost:8080/",
          "height": 1000
        },
        "outputId": "dda4bc11-e04d-48cd-c7c3-66933dfe54e4"
      },
      "outputs": [
        {
          "output_type": "display_data",
          "data": {
            "text/plain": [
              "<Figure size 800x600 with 1 Axes>"
            ],
            "image/png": "[encoded data removed]"
          },
          "metadata": {}
        },
        {
          "output_type": "display_data",
          "data": {
            "text/plain": [
              "<Figure size 800x600 with 1 Axes>"
            ],
            "image/png": "[encoded data removed]"
          },
          "metadata": {}
        },
        {
          "output_type": "display_data",
          "data": {
            "text/plain": [
              "<Figure size 800x600 with 1 Axes>"
            ],
            "image/png": "[encoded data removed]"
          },
          "metadata": {}
        },
        {
          "output_type": "display_data",
          "data": {
            "text/plain": [
              "<Figure size 800x600 with 1 Axes>"
            ],
            "image/png": "[encoded data removed]"
          },
          "metadata": {}
        },
        {
          "output_type": "display_data",
          "data": {
            "text/plain": [
              "<Figure size 800x600 with 1 Axes>"
            ],
            "image/png": "[encoded data removed]"
          },
          "metadata": {}
        },
        {
          "output_type": "display_data",
          "data": {
            "text/plain": [
              "<Figure size 800x600 with 1 Axes>"
            ],
            "image/png": "[encoded data removed]"
          },
          "metadata": {}
        },
        {
          "output_type": "display_data",
          "data": {
            "text/plain": [
              "<Figure size 800x600 with 1 Axes>"
            ],
            "image/png": "[encoded data removed]"
          },
          "metadata": {}
        },
        {
          "output_type": "display_data",
          "data": {
            "text/plain": [
              "<Figure size 800x600 with 1 Axes>"
            ],
            "image/png": "[encoded data removed]"
          },
          "metadata": {}
        },
        {
          "output_type": "display_data",
          "data": {
            "text/plain": [
              "<Figure size 800x600 with 1 Axes>"
            ],
            "image/png": "[encoded data removed]"
          },
          "metadata": {}
        },
        {
          "output_type": "display_data",
          "data": {
            "text/plain": [
              "<Figure size 800x600 with 1 Axes>"
            ],
            "image/png": "[encoded data removed]"
          },
          "metadata": {}
        },
        {
          "output_type": "display_data",
          "data": {
            "text/plain": [
              "<Figure size 800x600 with 1 Axes>"
            ],
            "image/png": "[encoded data removed]"
          },
          "metadata": {}
        },
        {
          "output_type": "display_data",
          "data": {
            "text/plain": [
              "<Figure size 800x600 with 1 Axes>"
            ],
            "image/png": "[encoded data removed]"
          },
          "metadata": {}
        },
        {
          "output_type": "display_data",
          "data": {
            "text/plain": [
              "<Figure size 800x600 with 1 Axes>"
            ],
            "image/png": "[encoded data removed]"
          },
          "metadata": {}
        },
        {
          "output_type": "display_data",
          "data": {
            "text/plain": [
              "<Figure size 800x600 with 1 Axes>"
            ],
            "image/png": "[encoded data removed]"
          },
          "metadata": {}
        }
      ],
      "source": [
        "### WRITE CODE TO OBTAIN AND DISPLAY HISTOGRAMS ###\n",
        "\n",
        "# Selecting only numerical columns (excluding 'Status')\n",
        "numerical_columns = df.drop(columns=['Status'])\n",
        "\n",
        "# Plotting histograms for each numerical column\n",
        "for column in numerical_columns:\n",
        "    plt.figure(figsize=(8, 6))\n",
        "    plt.hist(df[column], bins=30, alpha=0.75)\n",
        "    plt.xlabel(column)\n",
        "    plt.ylabel('Frequency')\n",
        "    plt.title(f'Histogram of {column}')\n",
        "    plt.grid(True)\n",
        "    plt.show()\n"
      ]
    },
    {
      "cell_type": "markdown",
      "metadata": {
        "id": "_XD0AGPM5eaD"
      },
      "source": [
        "##### Q1. What can you infer from the histograms? <br/>\n",
        "**Answer:** <br>\n",
        "We can understand the relationship of each paramenters or features effects on life expentancy, graph shows the relationship functionality.\n",
        "\n",
        "*Life expectancy* has normal disturbution, a bit skewed to the left. <br>\n",
        "We have a bunch set of variables distributed normally and skewed to the right: *Alcohol, Adult Mortality, Perc. Expenditure, GDP, Population and HIV Aids*\n",
        "Also, there are some of them, skewed to the left, including *Diphteria, Income composition of resources, Income composition of recources (less skewed)*\n",
        "\n",
        "*BMI* has also normal distribution, but with two peaks - Bimodal distribution\n",
        "\n",
        "*Schooling and Total* expenditure are normal and do not exibit andy skewness, while the remaining - *Year and Health index* have uniform dist.  \n"
      ]
    },
    {
      "cell_type": "markdown",
      "metadata": {
        "id": "xmq41MOV9Z8d"
      },
      "source": [
        "Compute the correlation matrix to get an understanding of the correlation between life_expectancy and the other features.<br/>"
      ]
    },
    {
      "cell_type": "code",
      "execution_count": null,
      "metadata": {
        "id": "WmuZTzx29bkO",
        "colab": {
          "base_uri": "https://localhost:8080/",
          "height": 1000
        },
        "outputId": "0f6ac0fd-5b79-448e-d38e-98ea9a95d2da"
      },
      "outputs": [
        {
          "output_type": "stream",
          "name": "stderr",
          "text": [
            "<ipython-input-6-53cfcbdc564e>:3: FutureWarning: The default value of numeric_only in DataFrame.corr is deprecated. In a future version, it will default to False. Select only valid columns or specify the value of numeric_only to silence this warning.\n",
            "  correlation_matrix = df.corr()\n"
          ]
        },
        {
          "output_type": "stream",
          "name": "stdout",
          "text": [
            "Correlation of Life_expectancy with other features:\n",
            "Life_expectancy                    1.000000\n",
            "Income_composition_of_resources    0.756515\n",
            "Schooling                          0.755132\n",
            "BMI                                0.557677\n",
            "GDP                                0.445212\n",
            "Alcohol                            0.439279\n",
            "percentage_expenditure             0.412576\n",
            "Diphtheria                         0.366748\n",
            "Total_expenditure                  0.211976\n",
            "Year                               0.070097\n",
            "Health_Index                       0.048112\n",
            "Population                        -0.009788\n",
            "HIV_AIDS                          -0.588284\n",
            "Adult_Mortality                   -0.698473\n",
            "Name: Life_expectancy, dtype: float64\n"
          ]
        },
        {
          "output_type": "execute_result",
          "data": {
            "text/plain": [
              "Text(0.5, 1.0, 'Correlation Heatmap')"
            ]
          },
          "metadata": {},
          "execution_count": 6
        },
        {
          "output_type": "display_data",
          "data": {
            "text/plain": [
              "<Figure size 640x480 with 2 Axes>"
            ],
            "image/png": "[encoded data removed]"
          },
          "metadata": {}
        }
      ],
      "source": [
        "# Obtaining correlation matrix\n",
        "\n",
        "correlation_matrix = df.corr()\n",
        "# print(correlation_matrix)\n",
        "# Correlation of 'Life_expectancy' with other features\n",
        "life_expectancy_corr = correlation_matrix['Life_expectancy'].sort_values(ascending=False)\n",
        "\n",
        "print(\"Correlation of Life_expectancy with other features:\")\n",
        "print(life_expectancy_corr)\n",
        "\n",
        "# correlation_matrix_np = correlation_matrix.to_numpy()\n",
        "# print(correlation_matrix_np)\n",
        "\n",
        "\n",
        "sns.heatmap(correlation_matrix, annot=True, cmap='coolwarm', fmt='.1f', annot_kws={\"size\": 12})\n",
        "plt.title('Correlation Heatmap')"
      ]
    },
    {
      "cell_type": "markdown",
      "metadata": {
        "id": "8UpsTJyw97FZ"
      },
      "source": [
        "##### Answer the following questions:<br/>\n",
        "\n",
        "##### Q2. Why is the diagonal made up of 1's in the correlation matrix?<br/>\n",
        "**Answer:** In a correlation matrix, the diagonal consists of 1's because it represents the correlation of a variable with itself, which will always be perfect and equal to 1. This is because when you calculate the correlation of a variable with itself, you're essentially comparing the variable to itself, resulting in a perfect positive correlation (since the variable perfectly matches with itself).\n",
        "\n",
        "Hence, the diagonal of a correlation matrix will always contain 1's as it represents the correlation of each variable with itself. The off-diagonal elements show the correlations between different pairs of variables in the dataset.\n",
        "\n",
        "##### Q3. Why is the matrix symmetric along diagonal?<br/>\n",
        "**Answer:** When you compute the correlation between variable A and variable B, it will give you the same result as when you compute the correlation between variable B and variable A. This property holds because the correlation coefficient measures the strength and direction of the linear relationship between two variables, regardless of which variable is considered the independent or dependent variable.\n",
        "\n",
        "For instance, if you compute the correlation between 'Variable A' and 'Variable B', you'll get the same value as when you compute the correlation between 'Variable B' and 'Variable A'. This symmetry results in a symmetric correlation matrix, where the values above and below the diagonal are mirror images of each other.\n",
        "\n",
        "This symmetry is inherent in the definition of correlation and is a fundamental property of the relationship between variables. Therefore, in a correlation matrix, the values above the diagonal are the same as the values below the diagonal, reflecting the symmetry in the relationships between variables.\n",
        "\n",
        "##### Q4. Looking at the correlation matrix, if you have to choose one predictor for a simple linear regression model with Life_expectancy as the outcome, which one would you choose and why? <br/>\n",
        "**Answer:** In this case, 'Income_composition_of_resources' and 'Schooling' have the highest correlation values with 'Life_expectancy' (0.756515 and 0.755132 respectively).\n",
        "\n",
        "Both 'Income_composition_of_resources' and 'Schooling' have strong positive correlations with 'Life_expectancy'. However, when deciding between the two, it's essential to consider the nature of these variables and their relationship with life expectancy.\n",
        "\n",
        "'Income_composition_of_resources' typically represents the share of income derived from different sources within a country and often correlates with the quality of life, access to healthcare, education, and other factors that impact life expectancy.\n",
        "\n",
        "'Schooling' often relates to the education level within a population, which can also significantly impact health awareness, access to better healthcare facilities, and healthier lifestyle choices.\n",
        "\n",
        "Given their high correlations , it direct or indirect influence on life expectancy, either 'Income_composition_of_resources' or 'Schooling' could be a reasonable choice as a predictor in a simple linear regression model\n",
        "\n",
        "##### Q4.1. Is there any variable that does not make sense to you and why? <br/>\n",
        "**Answer:** A correlation between 'Population' and 'Life_expectancy', 'Health index' and 'Life_expectancy' might seem doesn't make sense as it is close zero, proves that no leniar relationship extist between them."
      ]
    },
    {
      "cell_type": "markdown",
      "metadata": {
        "id": "jYvGzY8Z-ni-"
      },
      "source": [
        "### Standardization of features"
      ]
    },
    {
      "cell_type": "markdown",
      "metadata": {
        "id": "Jhq-T3Ed-r8w"
      },
      "source": [
        "Feature standardization makes the values of each feature in the data have zero-mean and unit-variance. This method is widely used for normalization in many machine learning algorithms. The general method of calculation is to determine the distribution mean and standard deviation for each feature. Next we subtract the mean from each feature. Then we divide the values of each feature by its standard deviation.\n",
        "\n",
        "$x'$ = ($x$ - $\\bar{x}$)/$\\sigma$\n",
        "\n",
        "where $x$ is the original feature vector,\n",
        "$\\bar{x}$ is the mean of the feature vector and\n",
        "$\\sigma$ is its standard deviation.\n",
        "\n",
        "This is also called Z-score Normalization.\n",
        "\n",
        "Perform Z-score Normalization on the features (except \"Year\" and \"Status\") in both training and test set."
      ]
    },
    {
      "cell_type": "code",
      "source": [
        "from google.colab import files\n",
        "uploaded = files.upload()\n",
        "import io"
      ],
      "metadata": {
        "colab": {
          "base_uri": "https://localhost:8080/",
          "height": 74
        },
        "id": "_gOs7xkLuNpk",
        "outputId": "55112855-ebc0-4ded-ae71-8b68118dd586"
      },
      "execution_count": null,
      "outputs": [
        {
          "output_type": "display_data",
          "data": {
            "text/plain": [
              "<IPython.core.display.HTML object>"
            ],
            "text/html": [
              "\n",
              "     <input type=\"file\" id=\"files-b4411d3d-3c12-48e3-94e3-7c01fc2d1335\" name=\"files[]\" multiple disabled\n",
              "        style=\"border:none\" />\n",
              "     <output id=\"result-b4411d3d-3c12-48e3-94e3-7c01fc2d1335\">\n",
              "      Upload widget is only available when the cell has been executed in the\n",
              "      current browser session. Please rerun this cell to enable.\n",
              "      </output>\n",
              "      <script>// Copyright 2017 Google LLC\n",
              "//\n",
              "// Licensed under the Apache License, Version 2.0 (the \"License\");\n",
              "// you may not use this file except in compliance with the License.\n",
              "// You may obtain a copy of the License at\n",
              "//\n",
              "//      http://www.apache.org/licenses/LICENSE-2.0\n",
              "//\n",
              "// Unless required by applicable law or agreed to in writing, software\n",
              "// distributed under the License is distributed on an \"AS IS\" BASIS,\n",
              "// WITHOUT WARRANTIES OR CONDITIONS OF ANY KIND, either express or implied.\n",
              "// See the License for the specific language governing permissions and\n",
              "// limitations under the License.\n",
              "\n",
              "/**\n",
              " * @fileoverview Helpers for google.colab Python module.\n",
              " */\n",
              "(function(scope) {\n",
              "function span(text, styleAttributes = {}) {\n",
              "  const element = document.createElement('span');\n",
              "  element.textContent = text;\n",
              "  for (const key of Object.keys(styleAttributes)) {\n",
              "    element.style[key] = styleAttributes[key];\n",
              "  }\n",
              "  return element;\n",
              "}\n",
              "\n",
              "// Max number of bytes which will be uploaded at a time.\n",
              "const MAX_PAYLOAD_SIZE = 100 * 1024;\n",
              "\n",
              "function _uploadFiles(inputId, outputId) {\n",
              "  const steps = uploadFilesStep(inputId, outputId);\n",
              "  const outputElement = document.getElementById(outputId);\n",
              "  // Cache steps on the outputElement to make it available for the next call\n",
              "  // to uploadFilesContinue from Python.\n",
              "  outputElement.steps = steps;\n",
              "\n",
              "  return _uploadFilesContinue(outputId);\n",
              "}\n",
              "\n",
              "// This is roughly an async generator (not supported in the browser yet),\n",
              "// where there are multiple asynchronous steps and the Python side is going\n",
              "// to poll for completion of each step.\n",
              "// This uses a Promise to block the python side on completion of each step,\n",
              "// then passes the result of the previous step as the input to the next step.\n",
              "function _uploadFilesContinue(outputId) {\n",
              "  const outputElement = document.getElementById(outputId);\n",
              "  const steps = outputElement.steps;\n",
              "\n",
              "  const next = steps.next(outputElement.lastPromiseValue);\n",
              "  return Promise.resolve(next.value.promise).then((value) => {\n",
              "    // Cache the last promise value to make it available to the next\n",
              "    // step of the generator.\n",
              "    outputElement.lastPromiseValue = value;\n",
              "    return next.value.response;\n",
              "  });\n",
              "}\n",
              "\n",
              "/**\n",
              " * Generator function which is called between each async step of the upload\n",
              " * process.\n",
              " * @param {string} inputId Element ID of the input file picker element.\n",
              " * @param {string} outputId Element ID of the output display.\n",
              " * @return {!Iterable<!Object>} Iterable of next steps.\n",
              " */\n",
              "function* uploadFilesStep(inputId, outputId) {\n",
              "  const inputElement = document.getElementById(inputId);\n",
              "  inputElement.disabled = false;\n",
              "\n",
              "  const outputElement = document.getElementById(outputId);\n",
              "  outputElement.innerHTML = '';\n",
              "\n",
              "  const pickedPromise = new Promise((resolve) => {\n",
              "    inputElement.addEventListener('change', (e) => {\n",
              "      resolve(e.target.files);\n",
              "    });\n",
              "  });\n",
              "\n",
              "  const cancel = document.createElement('button');\n",
              "  inputElement.parentElement.appendChild(cancel);\n",
              "  cancel.textContent = 'Cancel upload';\n",
              "  const cancelPromise = new Promise((resolve) => {\n",
              "    cancel.onclick = () => {\n",
              "      resolve(null);\n",
              "    };\n",
              "  });\n",
              "\n",
              "  // Wait for the user to pick the files.\n",
              "  const files = yield {\n",
              "    promise: Promise.race([pickedPromise, cancelPromise]),\n",
              "    response: {\n",
              "      action: 'starting',\n",
              "    }\n",
              "  };\n",
              "\n",
              "  cancel.remove();\n",
              "\n",
              "  // Disable the input element since further picks are not allowed.\n",
              "  inputElement.disabled = true;\n",
              "\n",
              "  if (!files) {\n",
              "    return {\n",
              "      response: {\n",
              "        action: 'complete',\n",
              "      }\n",
              "    };\n",
              "  }\n",
              "\n",
              "  for (const file of files) {\n",
              "    const li = document.createElement('li');\n",
              "    li.append(span(file.name, {fontWeight: 'bold'}));\n",
              "    li.append(span(\n",
              "        `(${file.type || 'n/a'}) - ${file.size} bytes, ` +\n",
              "        `last modified: ${\n",
              "            file.lastModifiedDate ? file.lastModifiedDate.toLocaleDateString() :\n",
              "                                    'n/a'} - `));\n",
              "    const percent = span('0% done');\n",
              "    li.appendChild(percent);\n",
              "\n",
              "    outputElement.appendChild(li);\n",
              "\n",
              "    const fileDataPromise = new Promise((resolve) => {\n",
              "      const reader = new FileReader();\n",
              "      reader.onload = (e) => {\n",
              "        resolve(e.target.result);\n",
              "      };\n",
              "      reader.readAsArrayBuffer(file);\n",
              "    });\n",
              "    // Wait for the data to be ready.\n",
              "    let fileData = yield {\n",
              "      promise: fileDataPromise,\n",
              "      response: {\n",
              "        action: 'continue',\n",
              "      }\n",
              "    };\n",
              "\n",
              "    // Use a chunked sending to avoid message size limits. See b/62115660.\n",
              "    let position = 0;\n",
              "    do {\n",
              "      const length = Math.min(fileData.byteLength - position, MAX_PAYLOAD_SIZE);\n",
              "      const chunk = new Uint8Array(fileData, position, length);\n",
              "      position += length;\n",
              "\n",
              "      const base64 = btoa(String.fromCharCode.apply(null, chunk));\n",
              "      yield {\n",
              "        response: {\n",
              "          action: 'append',\n",
              "          file: file.name,\n",
              "          data: base64,\n",
              "        },\n",
              "      };\n",
              "\n",
              "      let percentDone = fileData.byteLength === 0 ?\n",
              "          100 :\n",
              "          Math.round((position / fileData.byteLength) * 100);\n",
              "      percent.textContent = `${percentDone}% done`;\n",
              "\n",
              "    } while (position < fileData.byteLength);\n",
              "  }\n",
              "\n",
              "  // All done.\n",
              "  yield {\n",
              "    response: {\n",
              "      action: 'complete',\n",
              "    }\n",
              "  };\n",
              "}\n",
              "\n",
              "scope.google = scope.google || {};\n",
              "scope.google.colab = scope.google.colab || {};\n",
              "scope.google.colab._files = {\n",
              "  _uploadFiles,\n",
              "  _uploadFilesContinue,\n",
              "};\n",
              "})(self);\n",
              "</script> "
            ]
          },
          "metadata": {}
        },
        {
          "output_type": "stream",
          "name": "stdout",
          "text": [
            "Saving LifeExpectancy_test_modified.csv to LifeExpectancy_test_modified.csv\n"
          ]
        }
      ]
    },
    {
      "cell_type": "code",
      "execution_count": null,
      "metadata": {
        "id": "iD2UmlarDHY_"
      },
      "outputs": [],
      "source": [
        "# Load the test set \"LifeExpectancy_test_modified.csv\"\n",
        "### WRITE CODE ###\n",
        "df_test = pd.read_csv(\"LifeExpectancy_test_modified.csv\")"
      ]
    },
    {
      "cell_type": "code",
      "execution_count": null,
      "metadata": {
        "id": "a8Hu-t4eBphh",
        "colab": {
          "base_uri": "https://localhost:8080/"
        },
        "outputId": "7210a802-7d62-44e8-ac85-3a418f658250"
      },
      "outputs": [
        {
          "output_type": "stream",
          "name": "stdout",
          "text": [
            "   Adult_Mortality   Alcohol  percentage_expenditure       BMI  \\\n",
            "0        -0.595190 -0.726456                0.048715  1.255572   \n",
            "1        -0.109184  0.481078                0.023969 -0.320769   \n",
            "2        -0.801125  1.830823               -0.351900  0.886429   \n",
            "3        -0.249220 -1.115662               -0.399797  1.051047   \n",
            "4         0.220312  0.361323               -0.385773 -1.827272   \n",
            "\n",
            "   Total_expenditure  Diphtheria  HIV_AIDS       GDP  Population  \\\n",
            "0           0.445559   -0.171244 -0.313881  0.227204   -0.139413   \n",
            "1          -0.831846    0.692054 -0.313881 -0.000131    0.925595   \n",
            "2           2.157283    0.500210 -0.313881 -0.438595   -0.074490   \n",
            "3          -0.214434    0.452249 -0.313881 -0.482745   -0.182618   \n",
            "4          -1.010683    0.548171 -0.201351 -0.459608   -0.107964   \n",
            "\n",
            "   Income_composition_of_resources  Schooling  Health_Index  Life_expectancy  \n",
            "0                         0.671470   0.356420     -0.096784         0.615439  \n",
            "1                         0.556023   0.499431     -1.055036         0.570324  \n",
            "2                         1.380648   1.250240      1.442743         1.303449  \n",
            "3                         0.885873   0.892712     -0.801501         0.592882  \n",
            "4                         0.116223  -0.251379     -0.360090         0.209401  \n"
          ]
        }
      ],
      "source": [
        "from sklearn.preprocessing import StandardScaler\n",
        "### WRITE CODE TO PERFORM Z-score Normalization ###\n",
        "\n",
        "features_norm = df.drop([\"Year\", \"Status\"], axis=1)\n",
        "\n",
        "# Initialize the StandardScaler\n",
        "scaler = StandardScaler()\n",
        "\n",
        "# Fit and transform the features using Z-score normalization\n",
        "normalized_features = scaler.fit_transform(features_norm)\n",
        "\n",
        "# Create a new DataFrame with the normalized features (training data)\n",
        "df_normalized = pd.DataFrame(normalized_features, columns=features_norm.columns)\n",
        "\n",
        "#test data norm:  dropping year/status\n",
        "features_norm_test = df_test.drop([\"Year\", \"Status\"], axis=1)\n",
        "\n",
        "# Z-score normalization on test set\n",
        "normalise_test_features = scaler.fit_transform(features_norm_test)\n",
        "\n",
        "df_normalized_test = pd.DataFrame(normalise_test_features, columns=features_norm_test.columns)\n",
        "\n",
        "#printing the normalised for\n",
        "print(df_normalized.head())"
      ]
    },
    {
      "cell_type": "markdown",
      "metadata": {
        "id": "zwfacAsAFBbs"
      },
      "source": [
        "##### Q5. What are the advantages and disadvantages of using Z-score Normalization?<br/>\n",
        "**Answer:**  \n",
        "Advantages: scales to unit variance, centers data around zero mean, guarantees uniform scale among features, makes interpretation easier, effectively detects outliers.\n",
        "Disadvantages: prone to anomalies, assumes a normal distribution, units might become less interpretable, not resistant to high values\n",
        "\n",
        "##### Q6. In this dataset, do you need to use the Z-score Normalization? Explain.<br/>\n",
        "**Answer:** Z-score normalization is helpful in this dataset which has features with different scales (percentage & numeric). It preserves scale consistency among various features, in this datasets which has GDP, Expenditure and no of HIV have higher range so z score normalisation is needed in this dataset."
      ]
    },
    {
      "cell_type": "markdown",
      "metadata": {
        "id": "5tr1XcvyFIcN"
      },
      "source": [
        "### One-Hot Encoding"
      ]
    },
    {
      "cell_type": "markdown",
      "metadata": {
        "id": "fyyGwM3JFS4Y"
      },
      "source": [
        "\"Year\" and \"Status\" can only take discrete values. We need to perform one-hot encoding on discrete values for it to be processed in the model. One hot encoding is a process by which categorical variables are converted into a form that could be provided to ML algorithms to do a better job in prediction.\n",
        "Perform one-hot encoding on \"Year\" and \"Status\" and print the shape of your encoded array"
      ]
    },
    {
      "cell_type": "code",
      "execution_count": null,
      "metadata": {
        "id": "CVbI2IVxFuHn",
        "colab": {
          "base_uri": "https://localhost:8080/"
        },
        "outputId": "55d003e9-d5f9-46f9-cfc2-0b74e4f1d7da"
      },
      "outputs": [
        {
          "output_type": "stream",
          "name": "stdout",
          "text": [
            "(1064, 27)\n"
          ]
        }
      ],
      "source": [
        "from sklearn.preprocessing import OneHotEncoder\n",
        "### WRITE CODE TO PERFORM ONE-HOT CODING ON \"Year\" AND \"Status\" ###\n",
        "\n",
        "from sklearn.preprocessing import OneHotEncoder\n",
        "\n",
        "### WRITE CODE TO PERFORM ONE-HOT CODING ON \"Year\" AND \"Status\" ###\n",
        "\n",
        "# Create an instance of OneHotEncoder\n",
        "encoder = OneHotEncoder(sparse_output=False, drop='first')\n",
        "\n",
        "# Fit and transform the specified columns\n",
        "encoded_cols = encoder.fit_transform(df[['Year', 'Status']])\n",
        "\n",
        "# Concatenate the encoded columns with the original DataFrame\n",
        "df_encoded = pd.concat([df, pd.DataFrame(encoded_cols, columns=encoder.get_feature_names_out(['Year', 'Status']))], axis=1)\n",
        "\n",
        "# Drop the original categorical columns\n",
        "df_encoded.drop(['Year', 'Status'], axis=1, inplace=True)\n",
        "\n",
        "# Print the shape of the encoded DataFrame\n",
        "print(df_encoded.shape)"
      ]
    },
    {
      "cell_type": "markdown",
      "metadata": {
        "id": "IvbDqp5bJ-Xx"
      },
      "source": [
        "Q7. What are the other types of encodings and why did we use One-hot encoding for \"Year\" and \"Status\"?\n",
        "\n",
        "**Answer:**\n",
        "Other types of encodings include Label Encoding and Ordinal Encoding. One-hot encoding was used for \"Year\" and \"Status\" because these categorical variables are not ordinal."
      ]
    },
    {
      "cell_type": "markdown",
      "metadata": {
        "id": "Fp5S0WizKI0g"
      },
      "source": [
        "## Multiple Linear Regression\n",
        "\n",
        "In the big data era, it is highly unlikely that we are interested in the effect of a single variable on another. To simultaneously account for the effects of multiple variables, we use multiple regression (which accounts for the covariances between predictors).\n",
        "\n",
        "While the algorithmic solution to multiple regression exists, it is easier to conceptualize in terms of linear algebra. The optimal $\\hat{\\beta}$ vector that minimizes the residual sum of squares is:\n",
        "\n",
        "$\\hat{\\beta} = (X^TX)^{-1}X^Ty $\n",
        "\n",
        "\n",
        "Perform multiple linear regression on the training dataset, where the outcome is \"Life_expectancy\"."
      ]
    },
    {
      "cell_type": "code",
      "execution_count": null,
      "metadata": {
        "id": "GTfbR3b-KoeW",
        "outputId": "780c33c4-b7fa-49b1-a9f3-bc9b989358e4",
        "colab": {
          "base_uri": "https://localhost:8080/"
        }
      },
      "outputs": [
        {
          "output_type": "stream",
          "name": "stdout",
          "text": [
            "       Status  Adult_Mortality  Alcohol  percentage_expenditure   BMI  \\\n",
            "0  Developing               93     1.57              835.062683  64.0   \n",
            "1  Developing              152     6.41              789.077295  32.4   \n",
            "2   Developed               68    11.82               90.585012  56.6   \n",
            "3   Developed              135     0.01                1.576409  59.9   \n",
            "4  Developing              192     5.93               27.638103   2.2   \n",
            "\n",
            "   Total_expenditure  Diphtheria  HIV_AIDS         GDP  Population  \\\n",
            "0               7.12          81       0.1  8734.96530   4588368.0   \n",
            "1               4.12          99       0.1  5941.84710  68416772.0   \n",
            "2              11.14          95       0.1   554.71532   8479375.0   \n",
            "3               5.57          94       0.1    12.27733   1998979.0   \n",
            "4               3.70          96       0.7   296.54617   6473164.0   \n",
            "\n",
            "   Income_composition_of_resources  Schooling  Health_Index  \n",
            "0                            0.758       13.2      0.475880  \n",
            "1                            0.737       13.6      0.203275  \n",
            "2                            0.887       15.7      0.913847  \n",
            "3                            0.797       14.7      0.275401  \n",
            "4                            0.657       11.5      0.400974  \n"
          ]
        }
      ],
      "source": [
        "### Bulding and fitting the Multiple Linear Regression model###\n",
        "file_name = 'LifeExpectancy_training_modified.csv'\n",
        "df = pd.read_csv(file_name)\n",
        "# Separating the target variable and features\n",
        "X = df.drop(['Life_expectancy', 'Year'], axis=1)\n",
        "Y = df['Life_expectancy']\n",
        "print(X.head())"
      ]
    },
    {
      "cell_type": "code",
      "source": [
        "# Create a OneHotEncoder instance\n",
        "encoder = OneHotEncoder(sparse_output=False)\n",
        "\n",
        "# Fit and transform the specified columns\n",
        "encoded_cols = encoder.fit_transform(X[['Status']])\n",
        "\n",
        "# Concatenate the encoded columns with the training DataFrame\n",
        "X_encoded = pd.concat([X, pd.DataFrame(encoded_cols, columns=encoder.get_feature_names_out(['Status']))], axis=1)\n",
        "\n",
        "# Drop the original categorical columns\n",
        "X_encoded.drop(['Status'], axis=1, inplace=True)\n",
        "\n",
        "# Print the shape of the encoded DataFrame\n",
        "print(X_encoded.shape)"
      ],
      "metadata": {
        "colab": {
          "base_uri": "https://localhost:8080/"
        },
        "id": "igSSF1EnzUgF",
        "outputId": "09dda6ca-1caf-40ae-debe-c960d310a4a4"
      },
      "execution_count": null,
      "outputs": [
        {
          "output_type": "stream",
          "name": "stdout",
          "text": [
            "(1064, 14)\n"
          ]
        }
      ]
    },
    {
      "cell_type": "code",
      "source": [
        "X_encoded.head()"
      ],
      "metadata": {
        "colab": {
          "base_uri": "https://localhost:8080/",
          "height": 226
        },
        "id": "55xazUiPy7ez",
        "outputId": "6c05454c-baf4-4e8b-bfad-933ae2413fcf"
      },
      "execution_count": null,
      "outputs": [
        {
          "output_type": "execute_result",
          "data": {
            "text/plain": [
              "   Adult_Mortality  Alcohol  percentage_expenditure   BMI  Total_expenditure  \\\n",
              "0               93     1.57              835.062683  64.0               7.12   \n",
              "1              152     6.41              789.077295  32.4               4.12   \n",
              "2               68    11.82               90.585012  56.6              11.14   \n",
              "3              135     0.01                1.576409  59.9               5.57   \n",
              "4              192     5.93               27.638103   2.2               3.70   \n",
              "\n",
              "   Diphtheria  HIV_AIDS         GDP  Population  \\\n",
              "0          81       0.1  8734.96530   4588368.0   \n",
              "1          99       0.1  5941.84710  68416772.0   \n",
              "2          95       0.1   554.71532   8479375.0   \n",
              "3          94       0.1    12.27733   1998979.0   \n",
              "4          96       0.7   296.54617   6473164.0   \n",
              "\n",
              "   Income_composition_of_resources  Schooling  Health_Index  Status_Developed  \\\n",
              "0                            0.758       13.2      0.475880               0.0   \n",
              "1                            0.737       13.6      0.203275               0.0   \n",
              "2                            0.887       15.7      0.913847               1.0   \n",
              "3                            0.797       14.7      0.275401               1.0   \n",
              "4                            0.657       11.5      0.400974               0.0   \n",
              "\n",
              "   Status_Developing  \n",
              "0                1.0  \n",
              "1                1.0  \n",
              "2                0.0  \n",
              "3                0.0  \n",
              "4                1.0  "
            ],
            "text/html": [
              "\n",
              "  <div id=\"df-b53a3d17-0c8e-4d46-af8f-d4ee9c12ca22\" class=\"colab-df-container\">\n",
              "    <div>\n",
              "<style scoped>\n",
              "    .dataframe tbody tr th:only-of-type {\n",
              "        vertical-align: middle;\n",
              "    }\n",
              "\n",
              "    .dataframe tbody tr th {\n",
              "        vertical-align: top;\n",
              "    }\n",
              "\n",
              "    .dataframe thead th {\n",
              "        text-align: right;\n",
              "    }\n",
              "</style>\n",
              "<table border=\"1\" class=\"dataframe\">\n",
              "  <thead>\n",
              "    <tr style=\"text-align: right;\">\n",
              "      <th></th>\n",
              "      <th>Adult_Mortality</th>\n",
              "      <th>Alcohol</th>\n",
              "      <th>percentage_expenditure</th>\n",
              "      <th>BMI</th>\n",
              "      <th>Total_expenditure</th>\n",
              "      <th>Diphtheria</th>\n",
              "      <th>HIV_AIDS</th>\n",
              "      <th>GDP</th>\n",
              "      <th>Population</th>\n",
              "      <th>Income_composition_of_resources</th>\n",
              "      <th>Schooling</th>\n",
              "      <th>Health_Index</th>\n",
              "      <th>Status_Developed</th>\n",
              "      <th>Status_Developing</th>\n",
              "    </tr>\n",
              "  </thead>\n",
              "  <tbody>\n",
              "    <tr>\n",
              "      <th>0</th>\n",
              "      <td>93</td>\n",
              "      <td>1.57</td>\n",
              "      <td>835.062683</td>\n",
              "      <td>64.0</td>\n",
              "      <td>7.12</td>\n",
              "      <td>81</td>\n",
              "      <td>0.1</td>\n",
              "      <td>8734.96530</td>\n",
              "      <td>4588368.0</td>\n",
              "      <td>0.758</td>\n",
              "      <td>13.2</td>\n",
              "      <td>0.475880</td>\n",
              "      <td>0.0</td>\n",
              "      <td>1.0</td>\n",
              "    </tr>\n",
              "    <tr>\n",
              "      <th>1</th>\n",
              "      <td>152</td>\n",
              "      <td>6.41</td>\n",
              "      <td>789.077295</td>\n",
              "      <td>32.4</td>\n",
              "      <td>4.12</td>\n",
              "      <td>99</td>\n",
              "      <td>0.1</td>\n",
              "      <td>5941.84710</td>\n",
              "      <td>68416772.0</td>\n",
              "      <td>0.737</td>\n",
              "      <td>13.6</td>\n",
              "      <td>0.203275</td>\n",
              "      <td>0.0</td>\n",
              "      <td>1.0</td>\n",
              "    </tr>\n",
              "    <tr>\n",
              "      <th>2</th>\n",
              "      <td>68</td>\n",
              "      <td>11.82</td>\n",
              "      <td>90.585012</td>\n",
              "      <td>56.6</td>\n",
              "      <td>11.14</td>\n",
              "      <td>95</td>\n",
              "      <td>0.1</td>\n",
              "      <td>554.71532</td>\n",
              "      <td>8479375.0</td>\n",
              "      <td>0.887</td>\n",
              "      <td>15.7</td>\n",
              "      <td>0.913847</td>\n",
              "      <td>1.0</td>\n",
              "      <td>0.0</td>\n",
              "    </tr>\n",
              "    <tr>\n",
              "      <th>3</th>\n",
              "      <td>135</td>\n",
              "      <td>0.01</td>\n",
              "      <td>1.576409</td>\n",
              "      <td>59.9</td>\n",
              "      <td>5.57</td>\n",
              "      <td>94</td>\n",
              "      <td>0.1</td>\n",
              "      <td>12.27733</td>\n",
              "      <td>1998979.0</td>\n",
              "      <td>0.797</td>\n",
              "      <td>14.7</td>\n",
              "      <td>0.275401</td>\n",
              "      <td>1.0</td>\n",
              "      <td>0.0</td>\n",
              "    </tr>\n",
              "    <tr>\n",
              "      <th>4</th>\n",
              "      <td>192</td>\n",
              "      <td>5.93</td>\n",
              "      <td>27.638103</td>\n",
              "      <td>2.2</td>\n",
              "      <td>3.70</td>\n",
              "      <td>96</td>\n",
              "      <td>0.7</td>\n",
              "      <td>296.54617</td>\n",
              "      <td>6473164.0</td>\n",
              "      <td>0.657</td>\n",
              "      <td>11.5</td>\n",
              "      <td>0.400974</td>\n",
              "      <td>0.0</td>\n",
              "      <td>1.0</td>\n",
              "    </tr>\n",
              "  </tbody>\n",
              "</table>\n",
              "</div>\n",
              "    <div class=\"colab-df-buttons\">\n",
              "\n",
              "  <div class=\"colab-df-container\">\n",
              "    <button class=\"colab-df-convert\" onclick=\"convertToInteractive('df-b53a3d17-0c8e-4d46-af8f-d4ee9c12ca22')\"\n",
              "            title=\"Convert this dataframe to an interactive table.\"\n",
              "            style=\"display:none;\">\n",
              "\n",
              "  <svg xmlns=\"http://www.w3.org/2000/svg\" height=\"24px\" viewBox=\"0 -960 960 960\">\n",
              "    <path d=\"M120-120v-720h720v720H120Zm60-500h600v-160H180v160Zm220 220h160v-160H400v160Zm0 220h160v-160H400v160ZM180-400h160v-160H180v160Zm440 0h160v-160H620v160ZM180-180h160v-160H180v160Zm440 0h160v-160H620v160Z\"/>\n",
              "  </svg>\n",
              "    </button>\n",
              "\n",
              "  <style>\n",
              "    .colab-df-container {\n",
              "      display:flex;\n",
              "      gap: 12px;\n",
              "    }\n",
              "\n",
              "    .colab-df-convert {\n",
              "      background-color: #E8F0FE;\n",
              "      border: none;\n",
              "      border-radius: 50%;\n",
              "      cursor: pointer;\n",
              "      display: none;\n",
              "      fill: #1967D2;\n",
              "      height: 32px;\n",
              "      padding: 0 0 0 0;\n",
              "      width: 32px;\n",
              "    }\n",
              "\n",
              "    .colab-df-convert:hover {\n",
              "      background-color: #E2EBFA;\n",
              "      box-shadow: 0px 1px 2px rgba(60, 64, 67, 0.3), 0px 1px 3px 1px rgba(60, 64, 67, 0.15);\n",
              "      fill: #174EA6;\n",
              "    }\n",
              "\n",
              "    .colab-df-buttons div {\n",
              "      margin-bottom: 4px;\n",
              "    }\n",
              "\n",
              "    [theme=dark] .colab-df-convert {\n",
              "      background-color: #3B4455;\n",
              "      fill: #D2E3FC;\n",
              "    }\n",
              "\n",
              "    [theme=dark] .colab-df-convert:hover {\n",
              "      background-color: #434B5C;\n",
              "      box-shadow: 0px 1px 3px 1px rgba(0, 0, 0, 0.15);\n",
              "      filter: drop-shadow(0px 1px 2px rgba(0, 0, 0, 0.3));\n",
              "      fill: #FFFFFF;\n",
              "    }\n",
              "  </style>\n",
              "\n",
              "    <script>\n",
              "      const buttonEl =\n",
              "        document.querySelector('#df-b53a3d17-0c8e-4d46-af8f-d4ee9c12ca22 button.colab-df-convert');\n",
              "      buttonEl.style.display =\n",
              "        google.colab.kernel.accessAllowed ? 'block' : 'none';\n",
              "\n",
              "      async function convertToInteractive(key) {\n",
              "        const element = document.querySelector('#df-b53a3d17-0c8e-4d46-af8f-d4ee9c12ca22');\n",
              "        const dataTable =\n",
              "          await google.colab.kernel.invokeFunction('convertToInteractive',\n",
              "                                                    [key], {});\n",
              "        if (!dataTable) return;\n",
              "\n",
              "        const docLinkHtml = 'Like what you see? Visit the ' +\n",
              "          '<a target=\"_blank\" href=https://colab.research.google.com/notebooks/data_table.ipynb>data table notebook</a>'\n",
              "          + ' to learn more about interactive tables.';\n",
              "        element.innerHTML = '';\n",
              "        dataTable['output_type'] = 'display_data';\n",
              "        await google.colab.output.renderOutput(dataTable, element);\n",
              "        const docLink = document.createElement('div');\n",
              "        docLink.innerHTML = docLinkHtml;\n",
              "        element.appendChild(docLink);\n",
              "      }\n",
              "    </script>\n",
              "  </div>\n",
              "\n",
              "\n",
              "<div id=\"df-f13b13be-1785-4d0c-8c50-1025db7ab9a9\">\n",
              "  <button class=\"colab-df-quickchart\" onclick=\"quickchart('df-f13b13be-1785-4d0c-8c50-1025db7ab9a9')\"\n",
              "            title=\"Suggest charts\"\n",
              "            style=\"display:none;\">\n",
              "\n",
              "<svg xmlns=\"http://www.w3.org/2000/svg\" height=\"24px\"viewBox=\"0 0 24 24\"\n",
              "     width=\"24px\">\n",
              "    <g>\n",
              "        <path d=\"M19 3H5c-1.1 0-2 .9-2 2v14c0 1.1.9 2 2 2h14c1.1 0 2-.9 2-2V5c0-1.1-.9-2-2-2zM9 17H7v-7h2v7zm4 0h-2V7h2v10zm4 0h-2v-4h2v4z\"/>\n",
              "    </g>\n",
              "</svg>\n",
              "  </button>\n",
              "\n",
              "<style>\n",
              "  .colab-df-quickchart {\n",
              "      --bg-color: #E8F0FE;\n",
              "      --fill-color: #1967D2;\n",
              "      --hover-bg-color: #E2EBFA;\n",
              "      --hover-fill-color: #174EA6;\n",
              "      --disabled-fill-color: #AAA;\n",
              "      --disabled-bg-color: #DDD;\n",
              "  }\n",
              "\n",
              "  [theme=dark] .colab-df-quickchart {\n",
              "      --bg-color: #3B4455;\n",
              "      --fill-color: #D2E3FC;\n",
              "      --hover-bg-color: #434B5C;\n",
              "      --hover-fill-color: #FFFFFF;\n",
              "      --disabled-bg-color: #3B4455;\n",
              "      --disabled-fill-color: #666;\n",
              "  }\n",
              "\n",
              "  .colab-df-quickchart {\n",
              "    background-color: var(--bg-color);\n",
              "    border: none;\n",
              "    border-radius: 50%;\n",
              "    cursor: pointer;\n",
              "    display: none;\n",
              "    fill: var(--fill-color);\n",
              "    height: 32px;\n",
              "    padding: 0;\n",
              "    width: 32px;\n",
              "  }\n",
              "\n",
              "  .colab-df-quickchart:hover {\n",
              "    background-color: var(--hover-bg-color);\n",
              "    box-shadow: 0 1px 2px rgba(60, 64, 67, 0.3), 0 1px 3px 1px rgba(60, 64, 67, 0.15);\n",
              "    fill: var(--button-hover-fill-color);\n",
              "  }\n",
              "\n",
              "  .colab-df-quickchart-complete:disabled,\n",
              "  .colab-df-quickchart-complete:disabled:hover {\n",
              "    background-color: var(--disabled-bg-color);\n",
              "    fill: var(--disabled-fill-color);\n",
              "    box-shadow: none;\n",
              "  }\n",
              "\n",
              "  .colab-df-spinner {\n",
              "    border: 2px solid var(--fill-color);\n",
              "    border-color: transparent;\n",
              "    border-bottom-color: var(--fill-color);\n",
              "    animation:\n",
              "      spin 1s steps(1) infinite;\n",
              "  }\n",
              "\n",
              "  @keyframes spin {\n",
              "    0% {\n",
              "      border-color: transparent;\n",
              "      border-bottom-color: var(--fill-color);\n",
              "      border-left-color: var(--fill-color);\n",
              "    }\n",
              "    20% {\n",
              "      border-color: transparent;\n",
              "      border-left-color: var(--fill-color);\n",
              "      border-top-color: var(--fill-color);\n",
              "    }\n",
              "    30% {\n",
              "      border-color: transparent;\n",
              "      border-left-color: var(--fill-color);\n",
              "      border-top-color: var(--fill-color);\n",
              "      border-right-color: var(--fill-color);\n",
              "    }\n",
              "    40% {\n",
              "      border-color: transparent;\n",
              "      border-right-color: var(--fill-color);\n",
              "      border-top-color: var(--fill-color);\n",
              "    }\n",
              "    60% {\n",
              "      border-color: transparent;\n",
              "      border-right-color: var(--fill-color);\n",
              "    }\n",
              "    80% {\n",
              "      border-color: transparent;\n",
              "      border-right-color: var(--fill-color);\n",
              "      border-bottom-color: var(--fill-color);\n",
              "    }\n",
              "    90% {\n",
              "      border-color: transparent;\n",
              "      border-bottom-color: var(--fill-color);\n",
              "    }\n",
              "  }\n",
              "</style>\n",
              "\n",
              "  <script>\n",
              "    async function quickchart(key) {\n",
              "      const quickchartButtonEl =\n",
              "        document.querySelector('#' + key + ' button');\n",
              "      quickchartButtonEl.disabled = true;  // To prevent multiple clicks.\n",
              "      quickchartButtonEl.classList.add('colab-df-spinner');\n",
              "      try {\n",
              "        const charts = await google.colab.kernel.invokeFunction(\n",
              "            'suggestCharts', [key], {});\n",
              "      } catch (error) {\n",
              "        console.error('Error during call to suggestCharts:', error);\n",
              "      }\n",
              "      quickchartButtonEl.classList.remove('colab-df-spinner');\n",
              "      quickchartButtonEl.classList.add('colab-df-quickchart-complete');\n",
              "    }\n",
              "    (() => {\n",
              "      let quickchartButtonEl =\n",
              "        document.querySelector('#df-f13b13be-1785-4d0c-8c50-1025db7ab9a9 button');\n",
              "      quickchartButtonEl.style.display =\n",
              "        google.colab.kernel.accessAllowed ? 'block' : 'none';\n",
              "    })();\n",
              "  </script>\n",
              "</div>\n",
              "    </div>\n",
              "  </div>\n"
            ]
          },
          "metadata": {},
          "execution_count": 13
        }
      ]
    },
    {
      "cell_type": "code",
      "execution_count": null,
      "metadata": {
        "id": "ny-C1vAdRPFF",
        "outputId": "76fbaa3d-0dfa-4c64-aae3-7f04b0665a1d",
        "colab": {
          "base_uri": "https://localhost:8080/"
        }
      },
      "outputs": [
        {
          "output_type": "execute_result",
          "data": {
            "text/plain": [
              "Adult_Mortality                    0\n",
              "Alcohol                            0\n",
              "percentage_expenditure             0\n",
              "BMI                                0\n",
              "Total_expenditure                  0\n",
              "Diphtheria                         0\n",
              "HIV_AIDS                           0\n",
              "GDP                                0\n",
              "Population                         0\n",
              "Income_composition_of_resources    0\n",
              "Schooling                          0\n",
              "Health_Index                       0\n",
              "Status_Developed                   0\n",
              "Status_Developing                  0\n",
              "dtype: int64"
            ]
          },
          "metadata": {},
          "execution_count": 14
        }
      ],
      "source": [
        "# Checking for null values\n",
        "X_encoded.isnull().sum()"
      ]
    },
    {
      "cell_type": "code",
      "execution_count": null,
      "metadata": {
        "id": "2MS8_Bf5RPFK"
      },
      "outputs": [],
      "source": [
        "# Creating Multiple Linear Regression Model and fitting to the Training Dataset\n",
        "model = LinearRegression()"
      ]
    },
    {
      "cell_type": "code",
      "execution_count": null,
      "metadata": {
        "id": "cqToEU8bRPFK",
        "outputId": "65505f96-55c6-407c-d9e8-a0c57c970adc",
        "colab": {
          "base_uri": "https://localhost:8080/",
          "height": 75
        }
      },
      "outputs": [
        {
          "output_type": "execute_result",
          "data": {
            "text/plain": [
              "LinearRegression()"
            ],
            "text/html": [
              "<style>#sk-container-id-1 {color: black;background-color: white;}#sk-container-id-1 pre{padding: 0;}#sk-container-id-1 div.sk-toggleable {background-color: white;}#sk-container-id-1 label.sk-toggleable__label {cursor: pointer;display: block;width: 100%;margin-bottom: 0;padding: 0.3em;box-sizing: border-box;text-align: center;}#sk-container-id-1 label.sk-toggleable__label-arrow:before {content: \"▸\";float: left;margin-right: 0.25em;color: #696969;}#sk-container-id-1 label.sk-toggleable__label-arrow:hover:before {color: black;}#sk-container-id-1 div.sk-estimator:hover label.sk-toggleable__label-arrow:before {color: black;}#sk-container-id-1 div.sk-toggleable__content {max-height: 0;max-width: 0;overflow: hidden;text-align: left;background-color: #f0f8ff;}#sk-container-id-1 div.sk-toggleable__content pre {margin: 0.2em;color: black;border-radius: 0.25em;background-color: #f0f8ff;}#sk-container-id-1 input.sk-toggleable__control:checked~div.sk-toggleable__content {max-height: 200px;max-width: 100%;overflow: auto;}#sk-container-id-1 input.sk-toggleable__control:checked~label.sk-toggleable__label-arrow:before {content: \"▾\";}#sk-container-id-1 div.sk-estimator input.sk-toggleable__control:checked~label.sk-toggleable__label {background-color: #d4ebff;}#sk-container-id-1 div.sk-label input.sk-toggleable__control:checked~label.sk-toggleable__label {background-color: #d4ebff;}#sk-container-id-1 input.sk-hidden--visually {border: 0;clip: rect(1px 1px 1px 1px);clip: rect(1px, 1px, 1px, 1px);height: 1px;margin: -1px;overflow: hidden;padding: 0;position: absolute;width: 1px;}#sk-container-id-1 div.sk-estimator {font-family: monospace;background-color: #f0f8ff;border: 1px dotted black;border-radius: 0.25em;box-sizing: border-box;margin-bottom: 0.5em;}#sk-container-id-1 div.sk-estimator:hover {background-color: #d4ebff;}#sk-container-id-1 div.sk-parallel-item::after {content: \"\";width: 100%;border-bottom: 1px solid gray;flex-grow: 1;}#sk-container-id-1 div.sk-label:hover label.sk-toggleable__label {background-color: #d4ebff;}#sk-container-id-1 div.sk-serial::before {content: \"\";position: absolute;border-left: 1px solid gray;box-sizing: border-box;top: 0;bottom: 0;left: 50%;z-index: 0;}#sk-container-id-1 div.sk-serial {display: flex;flex-direction: column;align-items: center;background-color: white;padding-right: 0.2em;padding-left: 0.2em;position: relative;}#sk-container-id-1 div.sk-item {position: relative;z-index: 1;}#sk-container-id-1 div.sk-parallel {display: flex;align-items: stretch;justify-content: center;background-color: white;position: relative;}#sk-container-id-1 div.sk-item::before, #sk-container-id-1 div.sk-parallel-item::before {content: \"\";position: absolute;border-left: 1px solid gray;box-sizing: border-box;top: 0;bottom: 0;left: 50%;z-index: -1;}#sk-container-id-1 div.sk-parallel-item {display: flex;flex-direction: column;z-index: 1;position: relative;background-color: white;}#sk-container-id-1 div.sk-parallel-item:first-child::after {align-self: flex-end;width: 50%;}#sk-container-id-1 div.sk-parallel-item:last-child::after {align-self: flex-start;width: 50%;}#sk-container-id-1 div.sk-parallel-item:only-child::after {width: 0;}#sk-container-id-1 div.sk-dashed-wrapped {border: 1px dashed gray;margin: 0 0.4em 0.5em 0.4em;box-sizing: border-box;padding-bottom: 0.4em;background-color: white;}#sk-container-id-1 div.sk-label label {font-family: monospace;font-weight: bold;display: inline-block;line-height: 1.2em;}#sk-container-id-1 div.sk-label-container {text-align: center;}#sk-container-id-1 div.sk-container {/* jupyter's `normalize.less` sets `[hidden] { display: none; }` but bootstrap.min.css set `[hidden] { display: none !important; }` so we also need the `!important` here to be able to override the default hidden behavior on the sphinx rendered scikit-learn.org. See: https://github.com/scikit-learn/scikit-learn/issues/21755 */display: inline-block !important;position: relative;}#sk-container-id-1 div.sk-text-repr-fallback {display: none;}</style><div id=\"sk-container-id-1\" class=\"sk-top-container\"><div class=\"sk-text-repr-fallback\"><pre>LinearRegression()</pre><b>In a Jupyter environment, please rerun this cell to show the HTML representation or trust the notebook. <br />On GitHub, the HTML representation is unable to render, please try loading this page with nbviewer.org.</b></div><div class=\"sk-container\" hidden><div class=\"sk-item\"><div class=\"sk-estimator sk-toggleable\"><input class=\"sk-toggleable__control sk-hidden--visually\" id=\"sk-estimator-id-1\" type=\"checkbox\" checked><label for=\"sk-estimator-id-1\" class=\"sk-toggleable__label sk-toggleable__label-arrow\">LinearRegression</label><div class=\"sk-toggleable__content\"><pre>LinearRegression()</pre></div></div></div></div></div>"
            ]
          },
          "metadata": {},
          "execution_count": 16
        }
      ],
      "source": [
        "model.fit(X_encoded, Y)"
      ]
    },
    {
      "cell_type": "code",
      "execution_count": null,
      "metadata": {
        "id": "f2qOK4fuRPFL"
      },
      "outputs": [],
      "source": [
        "Y_prediction = model.predict(X_encoded)"
      ]
    },
    {
      "cell_type": "code",
      "source": [
        "X = sm.add_constant(X_encoded)\n",
        "\n",
        "model_initial = sm.OLS(Y, X).fit()\n",
        "\n",
        "aic = model_initial.aic\n",
        "bic = model_initial.bic\n",
        "\n",
        "print(f\"AIC: {aic}\")\n",
        "print(f\"BIC: {bic}\")"
      ],
      "metadata": {
        "colab": {
          "base_uri": "https://localhost:8080/"
        },
        "id": "wfjEP9Ke5FVc",
        "outputId": "31eeb84a-a3ee-4617-b355-1bdf9be47a79"
      },
      "execution_count": null,
      "outputs": [
        {
          "output_type": "stream",
          "name": "stdout",
          "text": [
            "AIC: 5782.647028536061\n",
            "BIC: 5852.224097914684\n"
          ]
        }
      ]
    },
    {
      "cell_type": "code",
      "source": [
        "print(model_initial.summary())"
      ],
      "metadata": {
        "colab": {
          "base_uri": "https://localhost:8080/"
        },
        "id": "uxxYuTmc56tA",
        "outputId": "696554ff-b4f3-48a0-87c0-8ff8caeeb4b5"
      },
      "execution_count": null,
      "outputs": [
        {
          "output_type": "stream",
          "name": "stdout",
          "text": [
            "                            OLS Regression Results                            \n",
            "==============================================================================\n",
            "Dep. Variable:        Life_expectancy   R-squared:                       0.834\n",
            "Model:                            OLS   Adj. R-squared:                  0.832\n",
            "Method:                 Least Squares   F-statistic:                     404.9\n",
            "Date:                Mon, 20 Nov 2023   Prob (F-statistic):               0.00\n",
            "Time:                        02:44:44   Log-Likelihood:                -2877.3\n",
            "No. Observations:                1064   AIC:                             5783.\n",
            "Df Residuals:                    1050   BIC:                             5852.\n",
            "Df Model:                          13                                         \n",
            "Covariance Type:            nonrobust                                         \n",
            "===================================================================================================\n",
            "                                      coef    std err          t      P>|t|      [0.025      0.975]\n",
            "---------------------------------------------------------------------------------------------------\n",
            "const                              33.8525      0.606     55.900      0.000      32.664      35.041\n",
            "Adult_Mortality                    -0.0173      0.001    -14.410      0.000      -0.020      -0.015\n",
            "Alcohol                            -0.0842      0.040     -2.091      0.037      -0.163      -0.005\n",
            "percentage_expenditure              0.0004      0.000      1.923      0.055   -8.18e-06       0.001\n",
            "BMI                                 0.0360      0.007      5.175      0.000       0.022       0.050\n",
            "Total_expenditure                   0.0931      0.050      1.852      0.064      -0.006       0.192\n",
            "Diphtheria                          0.0238      0.006      4.106      0.000       0.012       0.035\n",
            "HIV_AIDS                           -0.4896      0.025    -19.928      0.000      -0.538      -0.441\n",
            "GDP                             -1.921e-06   3.26e-05     -0.059      0.953   -6.58e-05     6.2e-05\n",
            "Population                      -1.104e-09   1.87e-09     -0.589      0.556   -4.78e-09    2.57e-09\n",
            "Income_composition_of_resources    11.4050      1.113     10.251      0.000       9.222      13.588\n",
            "Schooling                           0.9139      0.075     12.139      0.000       0.766       1.062\n",
            "Health_Index                        0.8767      0.393      2.228      0.026       0.105       1.649\n",
            "Status_Developed                   17.2525      0.423     40.759      0.000      16.422      18.083\n",
            "Status_Developing                  16.6000      0.306     54.187      0.000      15.999      17.201\n",
            "==============================================================================\n",
            "Omnibus:                       17.758   Durbin-Watson:                   2.038\n",
            "Prob(Omnibus):                  0.000   Jarque-Bera (JB):               30.027\n",
            "Skew:                          -0.087   Prob(JB):                     3.02e-07\n",
            "Kurtosis:                       3.804   Cond. No.                     3.43e+22\n",
            "==============================================================================\n",
            "\n",
            "Notes:\n",
            "[1] Standard Errors assume that the covariance matrix of the errors is correctly specified.\n",
            "[2] The smallest eigenvalue is 3.4e-27. This might indicate that there are\n",
            "strong multicollinearity problems or that the design matrix is singular.\n"
          ]
        }
      ]
    },
    {
      "cell_type": "code",
      "execution_count": null,
      "metadata": {
        "id": "FpQe-p3LLXgA",
        "outputId": "00fdc8fa-241b-406e-d390-a6e4e9c23b78",
        "colab": {
          "base_uri": "https://localhost:8080/"
        }
      },
      "outputs": [
        {
          "output_type": "stream",
          "name": "stdout",
          "text": [
            "Mean Squared Error (MSE) on Training Set: 13.074003330845038\n"
          ]
        }
      ],
      "source": [
        "### Evaluate the Linear Regression model by computing MSE on the training set###\n",
        "print(f'Mean Squared Error (MSE) on Training Set: {mean_squared_error(Y, Y_prediction)}')"
      ]
    },
    {
      "cell_type": "markdown",
      "metadata": {
        "id": "O2jOEvNiO84E"
      },
      "source": [
        "Q8. Print the value of coefficients and also the corresponding variable names for the coefficients."
      ]
    },
    {
      "cell_type": "code",
      "execution_count": null,
      "metadata": {
        "id": "-DxQOZPzRPFM",
        "outputId": "12760509-4bd9-4e85-a416-b67efe806641",
        "colab": {
          "base_uri": "https://localhost:8080/"
        }
      },
      "outputs": [
        {
          "output_type": "stream",
          "name": "stdout",
          "text": [
            "Coefficients:\n",
            "Intercept: 50.77867699940914\n",
            "Adult_Mortality                   -1.726938e-02\n",
            "Alcohol                           -8.422124e-02\n",
            "percentage_expenditure             4.009877e-04\n",
            "BMI                                3.600683e-02\n",
            "Total_expenditure                  9.309270e-02\n",
            "Diphtheria                         2.382734e-02\n",
            "HIV_AIDS                          -4.896151e-01\n",
            "GDP                               -1.920604e-06\n",
            "Population                        -1.104177e-09\n",
            "Income_composition_of_resources    1.140504e+01\n",
            "Schooling                          9.138672e-01\n",
            "Health_Index                       8.767061e-01\n",
            "Status_Developed                   3.262488e-01\n",
            "Status_Developing                 -3.262488e-01\n",
            "dtype: float64\n"
          ]
        }
      ],
      "source": [
        "coefficients = pd.Series(model.coef_, index=X_encoded.columns)\n",
        "print('Coefficients:')\n",
        "print('Intercept:', model.intercept_)\n",
        "print(coefficients)"
      ]
    },
    {
      "cell_type": "code",
      "source": [
        "sorted_coefficients = coefficients.abs().sort_values()\n",
        "\n",
        "print('Coefficients:')\n",
        "print('Intercept:', model.intercept_)\n",
        "\n",
        "print(sorted_coefficients)"
      ],
      "metadata": {
        "colab": {
          "base_uri": "https://localhost:8080/"
        },
        "id": "soZGtpNd0BKB",
        "outputId": "58269291-851c-473b-ab96-9fb990fbcb77"
      },
      "execution_count": null,
      "outputs": [
        {
          "output_type": "stream",
          "name": "stdout",
          "text": [
            "Coefficients:\n",
            "Intercept: 50.77867699940914\n",
            "Population                         1.104177e-09\n",
            "GDP                                1.920604e-06\n",
            "percentage_expenditure             4.009877e-04\n",
            "Adult_Mortality                    1.726938e-02\n",
            "Diphtheria                         2.382734e-02\n",
            "BMI                                3.600683e-02\n",
            "Alcohol                            8.422124e-02\n",
            "Total_expenditure                  9.309270e-02\n",
            "Status_Developing                  3.262488e-01\n",
            "Status_Developed                   3.262488e-01\n",
            "HIV_AIDS                           4.896151e-01\n",
            "Health_Index                       8.767061e-01\n",
            "Schooling                          9.138672e-01\n",
            "Income_composition_of_resources    1.140504e+01\n",
            "dtype: float64\n"
          ]
        }
      ]
    },
    {
      "cell_type": "markdown",
      "metadata": {
        "id": "q18iLjtHX25r"
      },
      "source": [
        "Q9. Is there a problem of multicolinearity? Explain what you can do?\n",
        "\n",
        "**Answer:** From the correlation matrix, it can be noted that multicollinearity is observed between some of the features (independent variables) in the data, particularly 'percentage_expenditure', and 'GDP'.\n",
        "'Income_composition_of_resources' and 'Schooling' also exhibit high correlation.\n",
        "\n",
        "There are several approaches to dealing with multicollinearity in the data: (1) feature selection - dropping correlated variables one by another, and measuring the effect on performance metrics, (2) remove all highly correllated variables together, again checking for the Hypothesis that their coefficients are insignificant (F-test with restrictions) and/or (3) apply regularization."
      ]
    },
    {
      "cell_type": "code",
      "source": [
        "filtered_values = correlation_matrix[correlation_matrix > 0.8]\n",
        "print(filtered_values)"
      ],
      "metadata": {
        "id": "HAqvpmDGhlJU",
        "colab": {
          "base_uri": "https://localhost:8080/"
        },
        "outputId": "e809f72a-8bbc-4d62-c519-180c80d13ec4"
      },
      "execution_count": null,
      "outputs": [
        {
          "output_type": "stream",
          "name": "stdout",
          "text": [
            "                                 Year  Adult_Mortality  Alcohol  \\\n",
            "Year                              1.0              NaN      NaN   \n",
            "Adult_Mortality                   NaN              1.0      NaN   \n",
            "Alcohol                           NaN              NaN      1.0   \n",
            "percentage_expenditure            NaN              NaN      NaN   \n",
            "BMI                               NaN              NaN      NaN   \n",
            "Total_expenditure                 NaN              NaN      NaN   \n",
            "Diphtheria                        NaN              NaN      NaN   \n",
            "HIV_AIDS                          NaN              NaN      NaN   \n",
            "GDP                               NaN              NaN      NaN   \n",
            "Population                        NaN              NaN      NaN   \n",
            "Income_composition_of_resources   NaN              NaN      NaN   \n",
            "Schooling                         NaN              NaN      NaN   \n",
            "Health_Index                      NaN              NaN      NaN   \n",
            "Life_expectancy                   NaN              NaN      NaN   \n",
            "\n",
            "                                 percentage_expenditure  BMI  \\\n",
            "Year                                                NaN  NaN   \n",
            "Adult_Mortality                                     NaN  NaN   \n",
            "Alcohol                                             NaN  NaN   \n",
            "percentage_expenditure                         1.000000  NaN   \n",
            "BMI                                                 NaN  1.0   \n",
            "Total_expenditure                                   NaN  NaN   \n",
            "Diphtheria                                          NaN  NaN   \n",
            "HIV_AIDS                                            NaN  NaN   \n",
            "GDP                                            0.956792  NaN   \n",
            "Population                                          NaN  NaN   \n",
            "Income_composition_of_resources                     NaN  NaN   \n",
            "Schooling                                           NaN  NaN   \n",
            "Health_Index                                        NaN  NaN   \n",
            "Life_expectancy                                     NaN  NaN   \n",
            "\n",
            "                                 Total_expenditure  Diphtheria  HIV_AIDS  \\\n",
            "Year                                           NaN         NaN       NaN   \n",
            "Adult_Mortality                                NaN         NaN       NaN   \n",
            "Alcohol                                        NaN         NaN       NaN   \n",
            "percentage_expenditure                         NaN         NaN       NaN   \n",
            "BMI                                            NaN         NaN       NaN   \n",
            "Total_expenditure                              1.0         NaN       NaN   \n",
            "Diphtheria                                     NaN         1.0       NaN   \n",
            "HIV_AIDS                                       NaN         NaN       1.0   \n",
            "GDP                                            NaN         NaN       NaN   \n",
            "Population                                     NaN         NaN       NaN   \n",
            "Income_composition_of_resources                NaN         NaN       NaN   \n",
            "Schooling                                      NaN         NaN       NaN   \n",
            "Health_Index                                   NaN         NaN       NaN   \n",
            "Life_expectancy                                NaN         NaN       NaN   \n",
            "\n",
            "                                      GDP  Population  \\\n",
            "Year                                  NaN         NaN   \n",
            "Adult_Mortality                       NaN         NaN   \n",
            "Alcohol                               NaN         NaN   \n",
            "percentage_expenditure           0.956792         NaN   \n",
            "BMI                                   NaN         NaN   \n",
            "Total_expenditure                     NaN         NaN   \n",
            "Diphtheria                            NaN         NaN   \n",
            "HIV_AIDS                              NaN         NaN   \n",
            "GDP                              1.000000         NaN   \n",
            "Population                            NaN         1.0   \n",
            "Income_composition_of_resources       NaN         NaN   \n",
            "Schooling                             NaN         NaN   \n",
            "Health_Index                          NaN         NaN   \n",
            "Life_expectancy                       NaN         NaN   \n",
            "\n",
            "                                 Income_composition_of_resources  Schooling  \\\n",
            "Year                                                         NaN        NaN   \n",
            "Adult_Mortality                                              NaN        NaN   \n",
            "Alcohol                                                      NaN        NaN   \n",
            "percentage_expenditure                                       NaN        NaN   \n",
            "BMI                                                          NaN        NaN   \n",
            "Total_expenditure                                            NaN        NaN   \n",
            "Diphtheria                                                   NaN        NaN   \n",
            "HIV_AIDS                                                     NaN        NaN   \n",
            "GDP                                                          NaN        NaN   \n",
            "Population                                                   NaN        NaN   \n",
            "Income_composition_of_resources                         1.000000   0.806302   \n",
            "Schooling                                               0.806302   1.000000   \n",
            "Health_Index                                                 NaN        NaN   \n",
            "Life_expectancy                                              NaN        NaN   \n",
            "\n",
            "                                 Health_Index  Life_expectancy  \n",
            "Year                                      NaN              NaN  \n",
            "Adult_Mortality                           NaN              NaN  \n",
            "Alcohol                                   NaN              NaN  \n",
            "percentage_expenditure                    NaN              NaN  \n",
            "BMI                                       NaN              NaN  \n",
            "Total_expenditure                         NaN              NaN  \n",
            "Diphtheria                                NaN              NaN  \n",
            "HIV_AIDS                                  NaN              NaN  \n",
            "GDP                                       NaN              NaN  \n",
            "Population                                NaN              NaN  \n",
            "Income_composition_of_resources           NaN              NaN  \n",
            "Schooling                                 NaN              NaN  \n",
            "Health_Index                              1.0              NaN  \n",
            "Life_expectancy                           NaN              1.0  \n"
          ]
        }
      ]
    },
    {
      "cell_type": "markdown",
      "source": [
        "Variables \"GDP\" and \"percentage_expenditure\" are highly correlated, with corr(X1, X2) = 0.956792 <br>\n",
        "Other variables with high correation are \"Income_composition_of_resources\" and \"Schooling\", with corr(X1, X2) = 0.806302. <br>\n",
        "\"Income_composition_of_resources\" and \"Schooling\" have higher correlation with the target variable, and, consequently, \"GDP\" and \"percentage_expenditure\" will be removed before. Moreover, \"GDP\" and \"percentage_expenditure\" have lower coefficients (less significant impact on the target), as we have enough evidence to assume that there exists perfect multicollinearity. <br> From the t-statistics of features (measured by respective p-values), we can see that features \"GDP\" and \"Population\" are statistically insignificant. <br>\n",
        "Moreover, as dataset contains other variables on expenditure, the \"percentage_expenditure\" will be removed first."
      ],
      "metadata": {
        "id": "3ffPI6UBh1s6"
      }
    },
    {
      "cell_type": "code",
      "source": [
        "X1 = X_encoded.drop(['Population', 'percentage_expenditure'], axis=1)"
      ],
      "metadata": {
        "id": "fcEUIYgniE0P"
      },
      "execution_count": null,
      "outputs": []
    },
    {
      "cell_type": "code",
      "source": [
        "model1 = LinearRegression()"
      ],
      "metadata": {
        "id": "9SJPHHCriP1d"
      },
      "execution_count": null,
      "outputs": []
    },
    {
      "cell_type": "code",
      "source": [
        "model1.fit(X1, Y)"
      ],
      "metadata": {
        "id": "rLJbevnRibLM",
        "colab": {
          "base_uri": "https://localhost:8080/",
          "height": 75
        },
        "outputId": "f008f24d-5312-44e5-e25d-339391f071f8"
      },
      "execution_count": null,
      "outputs": [
        {
          "output_type": "execute_result",
          "data": {
            "text/plain": [
              "LinearRegression()"
            ],
            "text/html": [
              "<style>#sk-container-id-2 {color: black;background-color: white;}#sk-container-id-2 pre{padding: 0;}#sk-container-id-2 div.sk-toggleable {background-color: white;}#sk-container-id-2 label.sk-toggleable__label {cursor: pointer;display: block;width: 100%;margin-bottom: 0;padding: 0.3em;box-sizing: border-box;text-align: center;}#sk-container-id-2 label.sk-toggleable__label-arrow:before {content: \"▸\";float: left;margin-right: 0.25em;color: #696969;}#sk-container-id-2 label.sk-toggleable__label-arrow:hover:before {color: black;}#sk-container-id-2 div.sk-estimator:hover label.sk-toggleable__label-arrow:before {color: black;}#sk-container-id-2 div.sk-toggleable__content {max-height: 0;max-width: 0;overflow: hidden;text-align: left;background-color: #f0f8ff;}#sk-container-id-2 div.sk-toggleable__content pre {margin: 0.2em;color: black;border-radius: 0.25em;background-color: #f0f8ff;}#sk-container-id-2 input.sk-toggleable__control:checked~div.sk-toggleable__content {max-height: 200px;max-width: 100%;overflow: auto;}#sk-container-id-2 input.sk-toggleable__control:checked~label.sk-toggleable__label-arrow:before {content: \"▾\";}#sk-container-id-2 div.sk-estimator input.sk-toggleable__control:checked~label.sk-toggleable__label {background-color: #d4ebff;}#sk-container-id-2 div.sk-label input.sk-toggleable__control:checked~label.sk-toggleable__label {background-color: #d4ebff;}#sk-container-id-2 input.sk-hidden--visually {border: 0;clip: rect(1px 1px 1px 1px);clip: rect(1px, 1px, 1px, 1px);height: 1px;margin: -1px;overflow: hidden;padding: 0;position: absolute;width: 1px;}#sk-container-id-2 div.sk-estimator {font-family: monospace;background-color: #f0f8ff;border: 1px dotted black;border-radius: 0.25em;box-sizing: border-box;margin-bottom: 0.5em;}#sk-container-id-2 div.sk-estimator:hover {background-color: #d4ebff;}#sk-container-id-2 div.sk-parallel-item::after {content: \"\";width: 100%;border-bottom: 1px solid gray;flex-grow: 1;}#sk-container-id-2 div.sk-label:hover label.sk-toggleable__label {background-color: #d4ebff;}#sk-container-id-2 div.sk-serial::before {content: \"\";position: absolute;border-left: 1px solid gray;box-sizing: border-box;top: 0;bottom: 0;left: 50%;z-index: 0;}#sk-container-id-2 div.sk-serial {display: flex;flex-direction: column;align-items: center;background-color: white;padding-right: 0.2em;padding-left: 0.2em;position: relative;}#sk-container-id-2 div.sk-item {position: relative;z-index: 1;}#sk-container-id-2 div.sk-parallel {display: flex;align-items: stretch;justify-content: center;background-color: white;position: relative;}#sk-container-id-2 div.sk-item::before, #sk-container-id-2 div.sk-parallel-item::before {content: \"\";position: absolute;border-left: 1px solid gray;box-sizing: border-box;top: 0;bottom: 0;left: 50%;z-index: -1;}#sk-container-id-2 div.sk-parallel-item {display: flex;flex-direction: column;z-index: 1;position: relative;background-color: white;}#sk-container-id-2 div.sk-parallel-item:first-child::after {align-self: flex-end;width: 50%;}#sk-container-id-2 div.sk-parallel-item:last-child::after {align-self: flex-start;width: 50%;}#sk-container-id-2 div.sk-parallel-item:only-child::after {width: 0;}#sk-container-id-2 div.sk-dashed-wrapped {border: 1px dashed gray;margin: 0 0.4em 0.5em 0.4em;box-sizing: border-box;padding-bottom: 0.4em;background-color: white;}#sk-container-id-2 div.sk-label label {font-family: monospace;font-weight: bold;display: inline-block;line-height: 1.2em;}#sk-container-id-2 div.sk-label-container {text-align: center;}#sk-container-id-2 div.sk-container {/* jupyter's `normalize.less` sets `[hidden] { display: none; }` but bootstrap.min.css set `[hidden] { display: none !important; }` so we also need the `!important` here to be able to override the default hidden behavior on the sphinx rendered scikit-learn.org. See: https://github.com/scikit-learn/scikit-learn/issues/21755 */display: inline-block !important;position: relative;}#sk-container-id-2 div.sk-text-repr-fallback {display: none;}</style><div id=\"sk-container-id-2\" class=\"sk-top-container\"><div class=\"sk-text-repr-fallback\"><pre>LinearRegression()</pre><b>In a Jupyter environment, please rerun this cell to show the HTML representation or trust the notebook. <br />On GitHub, the HTML representation is unable to render, please try loading this page with nbviewer.org.</b></div><div class=\"sk-container\" hidden><div class=\"sk-item\"><div class=\"sk-estimator sk-toggleable\"><input class=\"sk-toggleable__control sk-hidden--visually\" id=\"sk-estimator-id-2\" type=\"checkbox\" checked><label for=\"sk-estimator-id-2\" class=\"sk-toggleable__label sk-toggleable__label-arrow\">LinearRegression</label><div class=\"sk-toggleable__content\"><pre>LinearRegression()</pre></div></div></div></div></div>"
            ]
          },
          "metadata": {},
          "execution_count": 26
        }
      ]
    },
    {
      "cell_type": "code",
      "source": [
        "Y1_prediction = model1.predict(X1)"
      ],
      "metadata": {
        "id": "ZrBE07nkic86"
      },
      "execution_count": null,
      "outputs": []
    },
    {
      "cell_type": "code",
      "source": [
        "X1 = sm.add_constant(X1)\n",
        "\n",
        "model1 = sm.OLS(Y, X1).fit()\n",
        "\n",
        "aic1 = model1.aic\n",
        "bic1 = model1.bic\n",
        "\n",
        "print(f\"AIC: {aic1}\")\n",
        "print(f\"BIC: {bic1}\")"
      ],
      "metadata": {
        "colab": {
          "base_uri": "https://localhost:8080/"
        },
        "id": "Iqcp72X746cX",
        "outputId": "abe912ce-4ed3-4b45-bc97-49e87477757c"
      },
      "execution_count": null,
      "outputs": [
        {
          "output_type": "stream",
          "name": "stdout",
          "text": [
            "AIC: 5782.723198244561\n",
            "BIC: 5842.36068628338\n"
          ]
        }
      ]
    },
    {
      "cell_type": "code",
      "source": [
        "print(f'Mean Squared Error (MSE) on Initial Model: {mean_squared_error(Y, Y_prediction):.2f}')\n",
        "print(f'Mean Squared Error (MSE) of Model 1: {mean_squared_error(Y, Y1_prediction):.2f}')"
      ],
      "metadata": {
        "id": "1Ax5YMbIiejt",
        "colab": {
          "base_uri": "https://localhost:8080/"
        },
        "outputId": "295e1ffa-46ae-45b2-b237-e2c7ad6e3ba8"
      },
      "execution_count": null,
      "outputs": [
        {
          "output_type": "stream",
          "name": "stdout",
          "text": [
            "Mean Squared Error (MSE) on Initial Model: 13.07\n",
            "Mean Squared Error (MSE) of Model 1: 13.12\n"
          ]
        }
      ]
    },
    {
      "cell_type": "code",
      "source": [
        "X2 = X_encoded.drop(['Population', 'GDP', 'percentage_expenditure'], axis=1)"
      ],
      "metadata": {
        "id": "Ire2ANlBijvF"
      },
      "execution_count": null,
      "outputs": []
    },
    {
      "cell_type": "code",
      "source": [
        "model2 = LinearRegression()\n",
        "model2.fit(X2, Y)"
      ],
      "metadata": {
        "id": "UULWFkBJilUk",
        "colab": {
          "base_uri": "https://localhost:8080/",
          "height": 75
        },
        "outputId": "a60776b4-aa23-4741-b5bb-469e80ac777d"
      },
      "execution_count": null,
      "outputs": [
        {
          "output_type": "execute_result",
          "data": {
            "text/plain": [
              "LinearRegression()"
            ],
            "text/html": [
              "<style>#sk-container-id-3 {color: black;background-color: white;}#sk-container-id-3 pre{padding: 0;}#sk-container-id-3 div.sk-toggleable {background-color: white;}#sk-container-id-3 label.sk-toggleable__label {cursor: pointer;display: block;width: 100%;margin-bottom: 0;padding: 0.3em;box-sizing: border-box;text-align: center;}#sk-container-id-3 label.sk-toggleable__label-arrow:before {content: \"▸\";float: left;margin-right: 0.25em;color: #696969;}#sk-container-id-3 label.sk-toggleable__label-arrow:hover:before {color: black;}#sk-container-id-3 div.sk-estimator:hover label.sk-toggleable__label-arrow:before {color: black;}#sk-container-id-3 div.sk-toggleable__content {max-height: 0;max-width: 0;overflow: hidden;text-align: left;background-color: #f0f8ff;}#sk-container-id-3 div.sk-toggleable__content pre {margin: 0.2em;color: black;border-radius: 0.25em;background-color: #f0f8ff;}#sk-container-id-3 input.sk-toggleable__control:checked~div.sk-toggleable__content {max-height: 200px;max-width: 100%;overflow: auto;}#sk-container-id-3 input.sk-toggleable__control:checked~label.sk-toggleable__label-arrow:before {content: \"▾\";}#sk-container-id-3 div.sk-estimator input.sk-toggleable__control:checked~label.sk-toggleable__label {background-color: #d4ebff;}#sk-container-id-3 div.sk-label input.sk-toggleable__control:checked~label.sk-toggleable__label {background-color: #d4ebff;}#sk-container-id-3 input.sk-hidden--visually {border: 0;clip: rect(1px 1px 1px 1px);clip: rect(1px, 1px, 1px, 1px);height: 1px;margin: -1px;overflow: hidden;padding: 0;position: absolute;width: 1px;}#sk-container-id-3 div.sk-estimator {font-family: monospace;background-color: #f0f8ff;border: 1px dotted black;border-radius: 0.25em;box-sizing: border-box;margin-bottom: 0.5em;}#sk-container-id-3 div.sk-estimator:hover {background-color: #d4ebff;}#sk-container-id-3 div.sk-parallel-item::after {content: \"\";width: 100%;border-bottom: 1px solid gray;flex-grow: 1;}#sk-container-id-3 div.sk-label:hover label.sk-toggleable__label {background-color: #d4ebff;}#sk-container-id-3 div.sk-serial::before {content: \"\";position: absolute;border-left: 1px solid gray;box-sizing: border-box;top: 0;bottom: 0;left: 50%;z-index: 0;}#sk-container-id-3 div.sk-serial {display: flex;flex-direction: column;align-items: center;background-color: white;padding-right: 0.2em;padding-left: 0.2em;position: relative;}#sk-container-id-3 div.sk-item {position: relative;z-index: 1;}#sk-container-id-3 div.sk-parallel {display: flex;align-items: stretch;justify-content: center;background-color: white;position: relative;}#sk-container-id-3 div.sk-item::before, #sk-container-id-3 div.sk-parallel-item::before {content: \"\";position: absolute;border-left: 1px solid gray;box-sizing: border-box;top: 0;bottom: 0;left: 50%;z-index: -1;}#sk-container-id-3 div.sk-parallel-item {display: flex;flex-direction: column;z-index: 1;position: relative;background-color: white;}#sk-container-id-3 div.sk-parallel-item:first-child::after {align-self: flex-end;width: 50%;}#sk-container-id-3 div.sk-parallel-item:last-child::after {align-self: flex-start;width: 50%;}#sk-container-id-3 div.sk-parallel-item:only-child::after {width: 0;}#sk-container-id-3 div.sk-dashed-wrapped {border: 1px dashed gray;margin: 0 0.4em 0.5em 0.4em;box-sizing: border-box;padding-bottom: 0.4em;background-color: white;}#sk-container-id-3 div.sk-label label {font-family: monospace;font-weight: bold;display: inline-block;line-height: 1.2em;}#sk-container-id-3 div.sk-label-container {text-align: center;}#sk-container-id-3 div.sk-container {/* jupyter's `normalize.less` sets `[hidden] { display: none; }` but bootstrap.min.css set `[hidden] { display: none !important; }` so we also need the `!important` here to be able to override the default hidden behavior on the sphinx rendered scikit-learn.org. See: https://github.com/scikit-learn/scikit-learn/issues/21755 */display: inline-block !important;position: relative;}#sk-container-id-3 div.sk-text-repr-fallback {display: none;}</style><div id=\"sk-container-id-3\" class=\"sk-top-container\"><div class=\"sk-text-repr-fallback\"><pre>LinearRegression()</pre><b>In a Jupyter environment, please rerun this cell to show the HTML representation or trust the notebook. <br />On GitHub, the HTML representation is unable to render, please try loading this page with nbviewer.org.</b></div><div class=\"sk-container\" hidden><div class=\"sk-item\"><div class=\"sk-estimator sk-toggleable\"><input class=\"sk-toggleable__control sk-hidden--visually\" id=\"sk-estimator-id-3\" type=\"checkbox\" checked><label for=\"sk-estimator-id-3\" class=\"sk-toggleable__label sk-toggleable__label-arrow\">LinearRegression</label><div class=\"sk-toggleable__content\"><pre>LinearRegression()</pre></div></div></div></div></div>"
            ]
          },
          "metadata": {},
          "execution_count": 31
        }
      ]
    },
    {
      "cell_type": "code",
      "source": [
        "Y2_prediction = model2.predict(X2)"
      ],
      "metadata": {
        "id": "-lg4jA-Iinrp"
      },
      "execution_count": null,
      "outputs": []
    },
    {
      "cell_type": "code",
      "source": [
        "X2 = sm.add_constant(X2)\n",
        "\n",
        "model2 = sm.OLS(Y, X2).fit()\n",
        "\n",
        "aic2 = model2.aic\n",
        "bic2 = model2.bic\n",
        "\n",
        "print(f\"AIC: {aic2}\")\n",
        "print(f\"BIC: {bic2}\")\n"
      ],
      "metadata": {
        "colab": {
          "base_uri": "https://localhost:8080/"
        },
        "id": "IijsqcDm4vir",
        "outputId": "bed3b3b2-e2b3-4874-a5ca-05227658a3cb"
      },
      "execution_count": null,
      "outputs": [
        {
          "output_type": "stream",
          "name": "stdout",
          "text": [
            "AIC: 5807.3982783913325\n",
            "BIC: 5862.06597576025\n"
          ]
        }
      ]
    },
    {
      "cell_type": "code",
      "source": [
        "print(f'Mean Squared Error (MSE) on Initial Model: {mean_squared_error(Y, Y_prediction):.4f}')\n",
        "print(f'Mean Squared Error (MSE) of Model 1: {mean_squared_error(Y, Y1_prediction):.4f}')\n",
        "print(f'Mean Squared Error (MSE) of Model 2: {mean_squared_error(Y, Y2_prediction):.4f}')"
      ],
      "metadata": {
        "id": "FkPUpVHmirHo",
        "colab": {
          "base_uri": "https://localhost:8080/"
        },
        "outputId": "860e0738-9798-49f8-8ea4-afbcc6db347a"
      },
      "execution_count": null,
      "outputs": [
        {
          "output_type": "stream",
          "name": "stdout",
          "text": [
            "Mean Squared Error (MSE) on Initial Model: 13.0740\n",
            "Mean Squared Error (MSE) of Model 1: 13.1242\n",
            "Mean Squared Error (MSE) of Model 2: 13.4574\n"
          ]
        }
      ]
    },
    {
      "cell_type": "code",
      "source": [
        "X3 = X_encoded.drop(['Population', 'Schooling', 'GDP', 'percentage_expenditure'], axis=1)"
      ],
      "metadata": {
        "id": "8CqexlJrisky"
      },
      "execution_count": null,
      "outputs": []
    },
    {
      "cell_type": "code",
      "source": [
        "model3 = LinearRegression()\n",
        "model3.fit(X3, Y)"
      ],
      "metadata": {
        "id": "4zVEeEpLit96",
        "colab": {
          "base_uri": "https://localhost:8080/",
          "height": 75
        },
        "outputId": "d4fff0c4-e465-4108-abaa-e4c509f98c02"
      },
      "execution_count": null,
      "outputs": [
        {
          "output_type": "execute_result",
          "data": {
            "text/plain": [
              "LinearRegression()"
            ],
            "text/html": [
              "<style>#sk-container-id-4 {color: black;background-color: white;}#sk-container-id-4 pre{padding: 0;}#sk-container-id-4 div.sk-toggleable {background-color: white;}#sk-container-id-4 label.sk-toggleable__label {cursor: pointer;display: block;width: 100%;margin-bottom: 0;padding: 0.3em;box-sizing: border-box;text-align: center;}#sk-container-id-4 label.sk-toggleable__label-arrow:before {content: \"▸\";float: left;margin-right: 0.25em;color: #696969;}#sk-container-id-4 label.sk-toggleable__label-arrow:hover:before {color: black;}#sk-container-id-4 div.sk-estimator:hover label.sk-toggleable__label-arrow:before {color: black;}#sk-container-id-4 div.sk-toggleable__content {max-height: 0;max-width: 0;overflow: hidden;text-align: left;background-color: #f0f8ff;}#sk-container-id-4 div.sk-toggleable__content pre {margin: 0.2em;color: black;border-radius: 0.25em;background-color: #f0f8ff;}#sk-container-id-4 input.sk-toggleable__control:checked~div.sk-toggleable__content {max-height: 200px;max-width: 100%;overflow: auto;}#sk-container-id-4 input.sk-toggleable__control:checked~label.sk-toggleable__label-arrow:before {content: \"▾\";}#sk-container-id-4 div.sk-estimator input.sk-toggleable__control:checked~label.sk-toggleable__label {background-color: #d4ebff;}#sk-container-id-4 div.sk-label input.sk-toggleable__control:checked~label.sk-toggleable__label {background-color: #d4ebff;}#sk-container-id-4 input.sk-hidden--visually {border: 0;clip: rect(1px 1px 1px 1px);clip: rect(1px, 1px, 1px, 1px);height: 1px;margin: -1px;overflow: hidden;padding: 0;position: absolute;width: 1px;}#sk-container-id-4 div.sk-estimator {font-family: monospace;background-color: #f0f8ff;border: 1px dotted black;border-radius: 0.25em;box-sizing: border-box;margin-bottom: 0.5em;}#sk-container-id-4 div.sk-estimator:hover {background-color: #d4ebff;}#sk-container-id-4 div.sk-parallel-item::after {content: \"\";width: 100%;border-bottom: 1px solid gray;flex-grow: 1;}#sk-container-id-4 div.sk-label:hover label.sk-toggleable__label {background-color: #d4ebff;}#sk-container-id-4 div.sk-serial::before {content: \"\";position: absolute;border-left: 1px solid gray;box-sizing: border-box;top: 0;bottom: 0;left: 50%;z-index: 0;}#sk-container-id-4 div.sk-serial {display: flex;flex-direction: column;align-items: center;background-color: white;padding-right: 0.2em;padding-left: 0.2em;position: relative;}#sk-container-id-4 div.sk-item {position: relative;z-index: 1;}#sk-container-id-4 div.sk-parallel {display: flex;align-items: stretch;justify-content: center;background-color: white;position: relative;}#sk-container-id-4 div.sk-item::before, #sk-container-id-4 div.sk-parallel-item::before {content: \"\";position: absolute;border-left: 1px solid gray;box-sizing: border-box;top: 0;bottom: 0;left: 50%;z-index: -1;}#sk-container-id-4 div.sk-parallel-item {display: flex;flex-direction: column;z-index: 1;position: relative;background-color: white;}#sk-container-id-4 div.sk-parallel-item:first-child::after {align-self: flex-end;width: 50%;}#sk-container-id-4 div.sk-parallel-item:last-child::after {align-self: flex-start;width: 50%;}#sk-container-id-4 div.sk-parallel-item:only-child::after {width: 0;}#sk-container-id-4 div.sk-dashed-wrapped {border: 1px dashed gray;margin: 0 0.4em 0.5em 0.4em;box-sizing: border-box;padding-bottom: 0.4em;background-color: white;}#sk-container-id-4 div.sk-label label {font-family: monospace;font-weight: bold;display: inline-block;line-height: 1.2em;}#sk-container-id-4 div.sk-label-container {text-align: center;}#sk-container-id-4 div.sk-container {/* jupyter's `normalize.less` sets `[hidden] { display: none; }` but bootstrap.min.css set `[hidden] { display: none !important; }` so we also need the `!important` here to be able to override the default hidden behavior on the sphinx rendered scikit-learn.org. See: https://github.com/scikit-learn/scikit-learn/issues/21755 */display: inline-block !important;position: relative;}#sk-container-id-4 div.sk-text-repr-fallback {display: none;}</style><div id=\"sk-container-id-4\" class=\"sk-top-container\"><div class=\"sk-text-repr-fallback\"><pre>LinearRegression()</pre><b>In a Jupyter environment, please rerun this cell to show the HTML representation or trust the notebook. <br />On GitHub, the HTML representation is unable to render, please try loading this page with nbviewer.org.</b></div><div class=\"sk-container\" hidden><div class=\"sk-item\"><div class=\"sk-estimator sk-toggleable\"><input class=\"sk-toggleable__control sk-hidden--visually\" id=\"sk-estimator-id-4\" type=\"checkbox\" checked><label for=\"sk-estimator-id-4\" class=\"sk-toggleable__label sk-toggleable__label-arrow\">LinearRegression</label><div class=\"sk-toggleable__content\"><pre>LinearRegression()</pre></div></div></div></div></div>"
            ]
          },
          "metadata": {},
          "execution_count": 36
        }
      ]
    },
    {
      "cell_type": "code",
      "source": [
        "Y3_prediction = model3.predict(X3)"
      ],
      "metadata": {
        "id": "wva9mp2divPB"
      },
      "execution_count": null,
      "outputs": []
    },
    {
      "cell_type": "code",
      "source": [
        "X3 = sm.add_constant(X3)\n",
        "\n",
        "model3 = sm.OLS(Y, X3).fit()\n",
        "\n",
        "aic3 = model3.aic\n",
        "bic3 = model3.bic\n",
        "\n",
        "print(f\"AIC: {aic3}\")\n",
        "print(f\"BIC: {bic3}\")"
      ],
      "metadata": {
        "colab": {
          "base_uri": "https://localhost:8080/"
        },
        "id": "Jmz54yPq4kUK",
        "outputId": "3d48b97c-f767-4832-cef3-f40774c1465b"
      },
      "execution_count": null,
      "outputs": [
        {
          "output_type": "stream",
          "name": "stdout",
          "text": [
            "AIC: 5950.438165137945\n",
            "BIC: 6000.1360718369615\n"
          ]
        }
      ]
    },
    {
      "cell_type": "code",
      "source": [
        "print(f'Mean Squared Error (MSE) on Initial Model: {mean_squared_error(Y, Y_prediction):.4f}')\n",
        "print(f'Mean Squared Error (MSE) of Model 1: {mean_squared_error(Y, Y1_prediction):.4f}')\n",
        "print(f'Mean Squared Error (MSE) of Model 2: {mean_squared_error(Y, Y2_prediction):.4f}')\n",
        "print(f'Mean Squared Error (MSE) of Model 3: {mean_squared_error(Y, Y3_prediction):.4f}')"
      ],
      "metadata": {
        "id": "tWo53HBHiwhp",
        "colab": {
          "base_uri": "https://localhost:8080/"
        },
        "outputId": "aac28111-667e-460f-d0d0-f6b597315489"
      },
      "execution_count": null,
      "outputs": [
        {
          "output_type": "stream",
          "name": "stdout",
          "text": [
            "Mean Squared Error (MSE) on Initial Model: 13.0740\n",
            "Mean Squared Error (MSE) of Model 1: 13.1242\n",
            "Mean Squared Error (MSE) of Model 2: 13.4574\n",
            "Mean Squared Error (MSE) of Model 3: 15.4227\n"
          ]
        }
      ]
    },
    {
      "cell_type": "code",
      "source": [
        "X4 = X_encoded.drop(['Population', 'Income_composition_of_resources', 'Schooling', 'GDP', 'percentage_expenditure'], axis=1)"
      ],
      "metadata": {
        "id": "uoPTFVBOix1M"
      },
      "execution_count": null,
      "outputs": []
    },
    {
      "cell_type": "code",
      "source": [
        "model4 = LinearRegression()\n",
        "model4.fit(X4, Y)"
      ],
      "metadata": {
        "id": "2mzwysqrizGW",
        "colab": {
          "base_uri": "https://localhost:8080/",
          "height": 75
        },
        "outputId": "6934c659-dc58-4327-d191-09cad574a569"
      },
      "execution_count": null,
      "outputs": [
        {
          "output_type": "execute_result",
          "data": {
            "text/plain": [
              "LinearRegression()"
            ],
            "text/html": [
              "<style>#sk-container-id-5 {color: black;background-color: white;}#sk-container-id-5 pre{padding: 0;}#sk-container-id-5 div.sk-toggleable {background-color: white;}#sk-container-id-5 label.sk-toggleable__label {cursor: pointer;display: block;width: 100%;margin-bottom: 0;padding: 0.3em;box-sizing: border-box;text-align: center;}#sk-container-id-5 label.sk-toggleable__label-arrow:before {content: \"▸\";float: left;margin-right: 0.25em;color: #696969;}#sk-container-id-5 label.sk-toggleable__label-arrow:hover:before {color: black;}#sk-container-id-5 div.sk-estimator:hover label.sk-toggleable__label-arrow:before {color: black;}#sk-container-id-5 div.sk-toggleable__content {max-height: 0;max-width: 0;overflow: hidden;text-align: left;background-color: #f0f8ff;}#sk-container-id-5 div.sk-toggleable__content pre {margin: 0.2em;color: black;border-radius: 0.25em;background-color: #f0f8ff;}#sk-container-id-5 input.sk-toggleable__control:checked~div.sk-toggleable__content {max-height: 200px;max-width: 100%;overflow: auto;}#sk-container-id-5 input.sk-toggleable__control:checked~label.sk-toggleable__label-arrow:before {content: \"▾\";}#sk-container-id-5 div.sk-estimator input.sk-toggleable__control:checked~label.sk-toggleable__label {background-color: #d4ebff;}#sk-container-id-5 div.sk-label input.sk-toggleable__control:checked~label.sk-toggleable__label {background-color: #d4ebff;}#sk-container-id-5 input.sk-hidden--visually {border: 0;clip: rect(1px 1px 1px 1px);clip: rect(1px, 1px, 1px, 1px);height: 1px;margin: -1px;overflow: hidden;padding: 0;position: absolute;width: 1px;}#sk-container-id-5 div.sk-estimator {font-family: monospace;background-color: #f0f8ff;border: 1px dotted black;border-radius: 0.25em;box-sizing: border-box;margin-bottom: 0.5em;}#sk-container-id-5 div.sk-estimator:hover {background-color: #d4ebff;}#sk-container-id-5 div.sk-parallel-item::after {content: \"\";width: 100%;border-bottom: 1px solid gray;flex-grow: 1;}#sk-container-id-5 div.sk-label:hover label.sk-toggleable__label {background-color: #d4ebff;}#sk-container-id-5 div.sk-serial::before {content: \"\";position: absolute;border-left: 1px solid gray;box-sizing: border-box;top: 0;bottom: 0;left: 50%;z-index: 0;}#sk-container-id-5 div.sk-serial {display: flex;flex-direction: column;align-items: center;background-color: white;padding-right: 0.2em;padding-left: 0.2em;position: relative;}#sk-container-id-5 div.sk-item {position: relative;z-index: 1;}#sk-container-id-5 div.sk-parallel {display: flex;align-items: stretch;justify-content: center;background-color: white;position: relative;}#sk-container-id-5 div.sk-item::before, #sk-container-id-5 div.sk-parallel-item::before {content: \"\";position: absolute;border-left: 1px solid gray;box-sizing: border-box;top: 0;bottom: 0;left: 50%;z-index: -1;}#sk-container-id-5 div.sk-parallel-item {display: flex;flex-direction: column;z-index: 1;position: relative;background-color: white;}#sk-container-id-5 div.sk-parallel-item:first-child::after {align-self: flex-end;width: 50%;}#sk-container-id-5 div.sk-parallel-item:last-child::after {align-self: flex-start;width: 50%;}#sk-container-id-5 div.sk-parallel-item:only-child::after {width: 0;}#sk-container-id-5 div.sk-dashed-wrapped {border: 1px dashed gray;margin: 0 0.4em 0.5em 0.4em;box-sizing: border-box;padding-bottom: 0.4em;background-color: white;}#sk-container-id-5 div.sk-label label {font-family: monospace;font-weight: bold;display: inline-block;line-height: 1.2em;}#sk-container-id-5 div.sk-label-container {text-align: center;}#sk-container-id-5 div.sk-container {/* jupyter's `normalize.less` sets `[hidden] { display: none; }` but bootstrap.min.css set `[hidden] { display: none !important; }` so we also need the `!important` here to be able to override the default hidden behavior on the sphinx rendered scikit-learn.org. See: https://github.com/scikit-learn/scikit-learn/issues/21755 */display: inline-block !important;position: relative;}#sk-container-id-5 div.sk-text-repr-fallback {display: none;}</style><div id=\"sk-container-id-5\" class=\"sk-top-container\"><div class=\"sk-text-repr-fallback\"><pre>LinearRegression()</pre><b>In a Jupyter environment, please rerun this cell to show the HTML representation or trust the notebook. <br />On GitHub, the HTML representation is unable to render, please try loading this page with nbviewer.org.</b></div><div class=\"sk-container\" hidden><div class=\"sk-item\"><div class=\"sk-estimator sk-toggleable\"><input class=\"sk-toggleable__control sk-hidden--visually\" id=\"sk-estimator-id-5\" type=\"checkbox\" checked><label for=\"sk-estimator-id-5\" class=\"sk-toggleable__label sk-toggleable__label-arrow\">LinearRegression</label><div class=\"sk-toggleable__content\"><pre>LinearRegression()</pre></div></div></div></div></div>"
            ]
          },
          "metadata": {},
          "execution_count": 41
        }
      ]
    },
    {
      "cell_type": "code",
      "source": [
        "Y4_prediction = model4.predict(X4)"
      ],
      "metadata": {
        "id": "Es2OlkQQi0Wy"
      },
      "execution_count": null,
      "outputs": []
    },
    {
      "cell_type": "code",
      "source": [
        "X4 = sm.add_constant(X4)\n",
        "\n",
        "model = sm.OLS(Y, X4).fit()\n",
        "\n",
        "aic4 = model.aic\n",
        "bic4 = model.bic\n",
        "\n",
        "print(f\"AIC: {aic4}\")\n",
        "print(f\"BIC: {bic4}\")"
      ],
      "metadata": {
        "colab": {
          "base_uri": "https://localhost:8080/"
        },
        "id": "790zMixq4JSC",
        "outputId": "77d99c95-38ec-452a-f471-4ec8aa2c1826"
      },
      "execution_count": null,
      "outputs": [
        {
          "output_type": "stream",
          "name": "stdout",
          "text": [
            "AIC: 6287.195635800698\n",
            "BIC: 6331.923751829812\n"
          ]
        }
      ]
    },
    {
      "cell_type": "code",
      "source": [
        "print(f'Mean Squared Error (MSE) on Initial Model: {mean_squared_error(Y, Y_prediction):.4f}')\n",
        "print(f'Mean Squared Error (MSE) of Model 1: {mean_squared_error(Y, Y1_prediction):.4f}')\n",
        "print(f'Mean Squared Error (MSE) of Model 2: {mean_squared_error(Y, Y2_prediction):.4f}')\n",
        "print(f'Mean Squared Error (MSE) of Model 3: {mean_squared_error(Y, Y3_prediction):.4f}')\n",
        "print(f'Mean Squared Error (MSE) of Model 4: {mean_squared_error(Y, Y4_prediction):.4f}')"
      ],
      "metadata": {
        "id": "i8sMqhKTi16H",
        "colab": {
          "base_uri": "https://localhost:8080/"
        },
        "outputId": "ae4ec00d-68d5-45fd-e26e-3cede6d88e93"
      },
      "execution_count": null,
      "outputs": [
        {
          "output_type": "stream",
          "name": "stdout",
          "text": [
            "Mean Squared Error (MSE) on Initial Model: 13.0740\n",
            "Mean Squared Error (MSE) of Model 1: 13.1242\n",
            "Mean Squared Error (MSE) of Model 2: 13.4574\n",
            "Mean Squared Error (MSE) of Model 3: 15.4227\n",
            "Mean Squared Error (MSE) of Model 4: 21.2047\n"
          ]
        }
      ]
    },
    {
      "cell_type": "markdown",
      "source": [
        "**Conclusion** After selecting and removing the features with high multicollinearity and least predicting power, as measured by coefficients, we can see that the model accuracy does not improve (measured by AIC/BIC and MSE). <br>\n",
        "We will further continue our analysis with Model 2 - which excluded variables with least significance to the predictor ('Population' and 'GDP) and removes highly correlated variables ('GDP' and 'percentage_expenditure')."
      ],
      "metadata": {
        "id": "TF-5icgW5jki"
      }
    },
    {
      "cell_type": "markdown",
      "metadata": {
        "id": "FJ51d6d2YyPp"
      },
      "source": [
        "### Goodness of fit\n",
        "\n",
        "A model can always make predictions. But it is important to determine how good the model is.\n",
        "How do we know that our model captures the data well? When evaluating model fit, a good metric is $R^2$, which corresponds to the amount of variance explained by the model. The formula for $R^2$ is the following:\n",
        "\n",
        "$R^2$ = $1 - \\dfrac{RSS}{TSS}$<br/>\n",
        "where:<br/>\n",
        "$RSS = \\Sigma(y - \\hat{y})^2$<br/>\n",
        "$TSS = \\Sigma(y - \\bar{y})^2$<br/>\n",
        "\n",
        "$R^2$ is also one metric for comparing models against each other. It is intuitive to say that the model that explains more variation in the data is a better fit than one that explains less variation.\n",
        "\n",
        "Fill in the code for calculation of R2 score"
      ]
    },
    {
      "cell_type": "markdown",
      "metadata": {
        "id": "kFiC_mfgY7m1"
      },
      "source": [
        "$R^2$ for model with \"Schooling\" as predictor and \"Life_expectancy\" as outcome"
      ]
    },
    {
      "cell_type": "code",
      "execution_count": null,
      "metadata": {
        "id": "LIspp_FPaicb",
        "colab": {
          "base_uri": "https://localhost:8080/"
        },
        "outputId": "b069e0fc-eb8b-4ab5-867d-b511874bb836"
      },
      "outputs": [
        {
          "output_type": "stream",
          "name": "stdout",
          "text": [
            "R^2 Score for model with 'Schooling': 57.022%\n"
          ]
        }
      ],
      "source": [
        "### WRITE CODE ###\n",
        "file_name = 'LifeExpectancy_training_modified.csv'\n",
        "data = pd.read_csv(file_name)\n",
        "\n",
        "X = data[['Schooling']]\n",
        "Y = data['Life_expectancy']\n",
        "\n",
        "model = LinearRegression()\n",
        "model.fit(X, Y)\n",
        "\n",
        "predictions = model.predict(X)\n",
        "r2 = r2_score(Y, predictions)\n",
        "\n",
        "# Print R2 score\n",
        "print(f\"R^2 Score for model with 'Schooling': {r2*100:.3f}%\")"
      ]
    },
    {
      "cell_type": "markdown",
      "metadata": {
        "id": "5fGTnWcobCc_"
      },
      "source": [
        "$R^2$ for model with \"Schooling\", \"Adult_Mortality\" as predictor and \"Life_expectancy\" as outcome"
      ]
    },
    {
      "cell_type": "code",
      "execution_count": null,
      "metadata": {
        "id": "XqBXqRZlbjy7",
        "colab": {
          "base_uri": "https://localhost:8080/"
        },
        "outputId": "a3428db7-c3d3-40c4-c0e2-87ecf2d47e38"
      },
      "outputs": [
        {
          "output_type": "stream",
          "name": "stdout",
          "text": [
            "R^2 Score for model with 'Schooling', 'Adult_Mortality': 72.483%\n"
          ]
        }
      ],
      "source": [
        "### WRITE CODE ###\n",
        "# Define your predictors and outcome\n",
        "X = data[['Schooling', 'Adult_Mortality']]\n",
        "Y = data['Life_expectancy']\n",
        "\n",
        "model.fit(X, Y)\n",
        "\n",
        "predictions = model.predict(X)\n",
        "r2 = r2_score(Y, predictions)\n",
        "\n",
        "# Print R2 score\n",
        "print(f\"R^2 Score for model with 'Schooling', 'Adult_Mortality': {r2*100:.3f}%\")"
      ]
    },
    {
      "cell_type": "markdown",
      "metadata": {
        "id": "dE1PDtR0bVdX"
      },
      "source": [
        "$R^2$ for model with \"Schooling\", \"Adult_Mortality\" and \"Population\" as predictor and \"Life_expectancy\" as outcome"
      ]
    },
    {
      "cell_type": "code",
      "execution_count": null,
      "metadata": {
        "id": "5WxDGrKqbyR2",
        "colab": {
          "base_uri": "https://localhost:8080/"
        },
        "outputId": "7faa3dc9-f315-447d-f664-21523622538c"
      },
      "outputs": [
        {
          "output_type": "stream",
          "name": "stdout",
          "text": [
            "R^2 Score for model with 'Schooling', 'Adult_Mortality', 'Population': 72.485%\n"
          ]
        }
      ],
      "source": [
        "### WRITE CODE ###\n",
        "X = data[['Schooling', 'Adult_Mortality', 'Population']]\n",
        "Y = data['Life_expectancy']\n",
        "\n",
        "# Fit the model\n",
        "model.fit(X, Y)\n",
        "\n",
        "predictions = model.predict(X)\n",
        "r2 = r2_score(Y, predictions)\n",
        "\n",
        "# Print R2 score\n",
        "print(f\"R^2 Score for model with 'Schooling', 'Adult_Mortality', 'Population': {r2*100:.3f}%\")"
      ]
    },
    {
      "cell_type": "markdown",
      "metadata": {
        "id": "vYdvN1CTcMuN"
      },
      "source": [
        "You can see $R^2$ is always going up as we keep adding features.\n",
        "\n",
        "This is one drawback of only using $R^2$ to evaluate your model. Adding predictors seems to always improve the predictive ability of your model, though it may not be true.\n",
        "\n",
        "That is to say, we are not necessarily interested in making a perfect prediciton of our training data. If we were, we would always use all of the predictors available. Rather, we would like to make a perfect prediction of our test data. In this case, adding all the predictors may not be a good idea due to the trade-off between bias and variance. Thus, we are interested in the most predictive features, in the hopes that we can create a simpler model that performs well in the future.\n",
        "\n",
        "This is why we consider another metric, Adjusted R2.\n",
        "The adjusted R-squared increases only if the new term improves the model more than would be expected by chance.\n",
        "\n",
        "\n",
        "$AdjustedR^2$ = $1 - \\dfrac{(1-R^2)(n-1)}{(n-p-1)}$<br/>\n",
        "where:<br/>\n",
        "n = number of samples<br/>\n",
        "p = number of features\n",
        "\n",
        "Fill in the code for calculation of adjusted R2 score"
      ]
    },
    {
      "cell_type": "markdown",
      "metadata": {
        "id": "CCqEwoDNcOgb"
      },
      "source": [
        "Adjusted $R^2$ for model with \"Schooling\" as predictor and \"Life_expectancy\" as outcome"
      ]
    },
    {
      "cell_type": "code",
      "source": [
        "def adjusted_r2_score(model, X, Y):\n",
        "    \"\"\"\n",
        "    Calculate the adjusted R^2 score.\n",
        "\n",
        "    :param model: The trained regression model.\n",
        "    :param X: The predictor variables.\n",
        "    :param y: The target variable.\n",
        "    :return: The adjusted R^2 score.\n",
        "    \"\"\"\n",
        "    r2 = model.score(X, Y)\n",
        "    n = len(Y)\n",
        "    k = X.shape[1]\n",
        "    adjusted_r2 = 1 - (1 - r2) * (n - 1) / (n - k - 1)\n",
        "    return adjusted_r2\n"
      ],
      "metadata": {
        "id": "-asCrI9KmeE4"
      },
      "execution_count": null,
      "outputs": []
    },
    {
      "cell_type": "code",
      "execution_count": null,
      "metadata": {
        "id": "mCgTtpskch0n",
        "colab": {
          "base_uri": "https://localhost:8080/"
        },
        "outputId": "71ab2fde-f6f4-4af7-f54b-55d24225573c"
      },
      "outputs": [
        {
          "output_type": "stream",
          "name": "stdout",
          "text": [
            "Adjusted R^2 Score for model with 'Schooling': 56.982%\n"
          ]
        }
      ],
      "source": [
        "X = data[['Schooling']]\n",
        "Y = data['Life_expectancy']\n",
        "model = LinearRegression()\n",
        "model.fit(X, Y)\n",
        "\n",
        "adjusted_r2 = adjusted_r2_score(model, X, Y)\n",
        "\n",
        "\n",
        "# Print Adjusted R2 score\n",
        "print(f\"Adjusted R^2 Score for model with 'Schooling': {adjusted_r2*100:.3f}%\")"
      ]
    },
    {
      "cell_type": "markdown",
      "metadata": {
        "id": "cKLKf_ODc842"
      },
      "source": [
        "Adjusted $R^2$ for model with \"Schooling\", \"Adult_Mortality\" as predictor and \"Life_expectancy\" as outcome."
      ]
    },
    {
      "cell_type": "code",
      "execution_count": null,
      "metadata": {
        "id": "n6j0eaIxdFoD",
        "colab": {
          "base_uri": "https://localhost:8080/"
        },
        "outputId": "6d2fcd5b-a029-4971-fdb2-1ea717689bb3"
      },
      "outputs": [
        {
          "output_type": "stream",
          "name": "stdout",
          "text": [
            "Adjusted R^2 Score for model with 'Schooling', 'Adult_Mortality': 72.431%\n"
          ]
        }
      ],
      "source": [
        "### WRITE CODE ###\n",
        "X = data[['Schooling', 'Adult_Mortality']]\n",
        "model.fit(X, Y)\n",
        "\n",
        "adjusted_r2 = adjusted_r2_score(model, X, Y)\n",
        "\n",
        "\n",
        "# Print Adjusted R2 score\n",
        "print(f\"Adjusted R^2 Score for model with 'Schooling', 'Adult_Mortality': {adjusted_r2*100:.3f}%\")"
      ]
    },
    {
      "cell_type": "markdown",
      "metadata": {
        "id": "R3oT1NbDdRcK"
      },
      "source": [
        "Adjusted $R^2$ for model with \"Schooling\",\"Adult_Mortality\" and \"Population\" as predictor and \"Life_expectancy\" as outcome"
      ]
    },
    {
      "cell_type": "code",
      "execution_count": null,
      "metadata": {
        "id": "KLOFJL2LdVEz",
        "colab": {
          "base_uri": "https://localhost:8080/"
        },
        "outputId": "79a66505-828a-42c4-c0ad-684f45c5759e"
      },
      "outputs": [
        {
          "output_type": "stream",
          "name": "stdout",
          "text": [
            "Adjusted R^2 Score for model with 'Schooling', 'Adult_Mortality', 'Population': 72.407%\n"
          ]
        }
      ],
      "source": [
        "### WRITE CODE ###\n",
        "X = data[['Schooling', 'Adult_Mortality', 'Population']]\n",
        "model.fit(X, Y)\n",
        "\n",
        "adjusted_r2 = adjusted_r2_score(model, X, Y)\n",
        "\n",
        "\n",
        "# Print Adjusted R2 score\n",
        "print(f\"Adjusted R^2 Score for model with 'Schooling', 'Adult_Mortality', 'Population': {adjusted_r2*100:.3f}%\")"
      ]
    },
    {
      "cell_type": "markdown",
      "source": [
        "Below we calculate adjusted R^2 for out selected model."
      ],
      "metadata": {
        "id": "zBR_v6MsAUpk"
      }
    },
    {
      "cell_type": "code",
      "source": [
        "model2 = LinearRegression()\n",
        "model2.fit(X2, Y)\n",
        "adj_R_model2 = adjusted_r2_score(model2, X2, Y)\n",
        "print(f\"Adjusted R^2 Score for our model: {adj_R_model2*100:.3f}%\")"
      ],
      "metadata": {
        "colab": {
          "base_uri": "https://localhost:8080/"
        },
        "id": "ssqKENpXATG9",
        "outputId": "46c3d5f0-6bec-4e5e-be49-77ea6d5281d6"
      },
      "execution_count": null,
      "outputs": [
        {
          "output_type": "stream",
          "name": "stdout",
          "text": [
            "Adjusted R^2 Score for our model: 82.685%\n"
          ]
        }
      ]
    },
    {
      "cell_type": "markdown",
      "metadata": {
        "id": "HDHU67n8d4x7"
      },
      "source": [
        "### K-fold Cross-Validation\n",
        "\n",
        "However, adjusted $R^2$ is not enough to help us ahieve the best model, a more robust method is k-fold cross-validation.\n",
        "\n",
        "* Randomly split dataset into K equal-sized subsets, or folds\n",
        "* Treat each fold as validation set (train on all but K'th fold and test on K'th fold only)\n",
        "\n",
        "* The overall error is then the mean error over all K models.\n",
        "* Most common are 5- or 10-fold cross-validation\n",
        "\n",
        "Please implement a 5-fold cross-validation by yourselves to find the best model in terms of Mean Square Error(MSE)\n",
        "\n",
        "**Do not use sklearn.model_selection.cross_val_score or other built-in cross-validaiton functions**"
      ]
    },
    {
      "cell_type": "code",
      "execution_count": null,
      "metadata": {
        "id": "QnbM2CcZFhWs"
      },
      "outputs": [],
      "source": [
        "# Design a function to implement 5-fold cross-validation.\n",
        "# The input: training features X, training target y and # of folds f=5.\n",
        "# The output: the average of MSE over the 5 folds.\n",
        "\n",
        "from sklearn.model_selection import KFold\n",
        "from sklearn.metrics import mean_squared_error\n",
        "from sklearn.linear_model import LinearRegression\n",
        "import numpy as np\n",
        "\n",
        "def cross_val_mse(X, y, f):\n",
        "    kf = KFold(n_splits=f, shuffle=True, random_state=42)\n",
        "    mse_scores = []\n",
        "\n",
        "    for train_index, test_index in kf.split(X):\n",
        "        X_train, X_test = X[train_index], X[test_index]\n",
        "        y_train, y_test = y[train_index], y[test_index]\n",
        "\n",
        "        model = LinearRegression()\n",
        "        model.fit(X_train, y_train)\n",
        "\n",
        "        y_pred = model.predict(X_test)\n",
        "        mse_scores.append(mean_squared_error(y_test, y_pred))\n",
        "\n",
        "    average_mse = np.mean(mse_scores)\n",
        "    return average_mse"
      ]
    },
    {
      "cell_type": "code",
      "execution_count": null,
      "metadata": {
        "id": "ZxURVCdbFuWB"
      },
      "outputs": [],
      "source": [
        "# By using your above functions, find the best combination of features, which has the lowest averaged MSE\n",
        "from itertools import combinations\n",
        "### Write code here ###\n",
        "def find_best_feature_combination(X, y, f):\n",
        "    min_avg_mse = float('inf')\n",
        "    best_feature_combination = None\n",
        "    for num_features in range(1, len(X.columns) + 1):\n",
        "        for features in combinations(X.columns, num_features):\n",
        "            avg_mse = cross_val_mse(X[list(features)], y, f)\n",
        "            if avg_mse < min_avg_mse:\n",
        "                print(f\"Average MSE: {avg_mse} with features: {features}\")\n",
        "                min_avg_mse = avg_mse\n",
        "                best_feature_combination = features\n",
        "    return best_feature_combination, min_avg_mse\n"
      ]
    },
    {
      "cell_type": "code",
      "source": [
        "import pandas as pd\n",
        "from sklearn.linear_model import LinearRegression\n",
        "from sklearn.model_selection import KFold\n",
        "from sklearn.metrics import mean_squared_error\n",
        "import numpy as np\n",
        "from itertools import combinations\n",
        "\n",
        "# Load training data\n",
        "train_df = pd.read_csv('LifeExpectancy_training_modified.csv')\n",
        "\n",
        "# Extract features and target\n",
        "X = train_df.drop(['Life_expectancy'], axis=1)\n",
        "y = train_df['Life_expectancy']\n",
        "\n",
        "# One-hot encode categorical variables\n",
        "X_encoded = pd.get_dummies(X, columns=['Status'], drop_first=True)\n",
        "\n",
        "# Design a function to implement 5-fold cross-validation.\n",
        "# The input: training features X, training target y and # of folds f=5.\n",
        "# The output: the average of MSE over the 5 folds.\n",
        "\n",
        "def cross_val_mse(X, y, f):\n",
        "    kf = KFold(n_splits=f, shuffle=True, random_state=42)\n",
        "    mse_scores = []\n",
        "\n",
        "    for train_index, test_index in kf.split(X):\n",
        "        X_train, X_test = X.iloc[train_index], X.iloc[test_index]\n",
        "        y_train, y_test = y.iloc[train_index], y.iloc[test_index]\n",
        "\n",
        "        model = LinearRegression()\n",
        "        model.fit(X_train, y_train)\n",
        "\n",
        "        y_pred = model.predict(X_test)\n",
        "        mse_scores.append(mean_squared_error(y_test, y_pred))\n",
        "\n",
        "    average_mse = np.mean(mse_scores)\n",
        "    return average_mse\n",
        "\n",
        "# By using your above functions, find the best combination of features, which has the lowest averaged MSE\n",
        "\n",
        "def find_best_feature_combination(X, y, f):\n",
        "    min_avg_mse = float('inf')\n",
        "    best_feature_combination = None\n",
        "    for num_features in range(1, len(X.columns) + 1):\n",
        "        for features in combinations(X.columns, num_features):\n",
        "            avg_mse = cross_val_mse(X[list(features)], y, f)\n",
        "            if avg_mse < min_avg_mse:\n",
        "                print(f\"Average MSE: {avg_mse} with features: {features}\")\n",
        "                min_avg_mse = avg_mse\n",
        "                best_feature_combination = features\n",
        "    return best_feature_combination, min_avg_mse\n",
        "\n",
        "# Print the best features and the corresponding MSE using the training set\n",
        "best_features, best_mse = find_best_feature_combination(X_encoded, y, 5)\n",
        "print(\"Best feature combination:\", best_features)\n",
        "print(\"Corresponding MSE:\", best_mse)\n"
      ],
      "metadata": {
        "colab": {
          "base_uri": "https://localhost:8080/"
        },
        "id": "NPNKPLH4P0kg",
        "outputId": "550da7be-61db-4a8e-e411-9c08c059af14"
      },
      "execution_count": null,
      "outputs": [
        {
          "output_type": "stream",
          "name": "stdout",
          "text": [
            "Average MSE: 78.70658066516293 with features: ('Year',)\n",
            "Average MSE: 40.38542643167671 with features: ('Adult_Mortality',)\n",
            "Average MSE: 34.218891785254584 with features: ('Income_composition_of_resources',)\n",
            "Average MSE: 33.89507815732628 with features: ('Schooling',)\n",
            "Average MSE: 33.67763719735072 with features: ('Adult_Mortality', 'Alcohol')\n",
            "Average MSE: 32.452906501581865 with features: ('Adult_Mortality', 'BMI')\n",
            "Average MSE: 22.60952537617545 with features: ('Adult_Mortality', 'Income_composition_of_resources')\n",
            "Average MSE: 21.746013197927777 with features: ('Adult_Mortality', 'Schooling')\n",
            "Average MSE: 20.301074402433613 with features: ('HIV_AIDS', 'Schooling')\n",
            "Average MSE: 20.00892754138564 with features: ('Year', 'HIV_AIDS', 'Schooling')\n",
            "Average MSE: 17.749689265584447 with features: ('Adult_Mortality', 'HIV_AIDS', 'Income_composition_of_resources')\n",
            "Average MSE: 16.15358595687632 with features: ('Adult_Mortality', 'HIV_AIDS', 'Schooling')\n",
            "Average MSE: 16.005740228389264 with features: ('Year', 'Adult_Mortality', 'HIV_AIDS', 'Schooling')\n",
            "Average MSE: 15.489012349564291 with features: ('Adult_Mortality', 'percentage_expenditure', 'HIV_AIDS', 'Schooling')\n",
            "Average MSE: 14.394113832163375 with features: ('Adult_Mortality', 'HIV_AIDS', 'Income_composition_of_resources', 'Schooling')\n",
            "Average MSE: 14.16777303212066 with features: ('Year', 'Adult_Mortality', 'HIV_AIDS', 'Income_composition_of_resources', 'Schooling')\n",
            "Average MSE: 13.969296749931521 with features: ('Adult_Mortality', 'percentage_expenditure', 'HIV_AIDS', 'Income_composition_of_resources', 'Schooling')\n",
            "Average MSE: 13.731161465834788 with features: ('Year', 'Adult_Mortality', 'percentage_expenditure', 'HIV_AIDS', 'Income_composition_of_resources', 'Schooling')\n",
            "Average MSE: 13.667444863101787 with features: ('Adult_Mortality', 'percentage_expenditure', 'BMI', 'HIV_AIDS', 'Income_composition_of_resources', 'Schooling')\n",
            "Average MSE: 13.441846539283244 with features: ('Year', 'Adult_Mortality', 'percentage_expenditure', 'BMI', 'HIV_AIDS', 'Income_composition_of_resources', 'Schooling')\n",
            "Average MSE: 13.392117468755028 with features: ('Year', 'Adult_Mortality', 'Alcohol', 'percentage_expenditure', 'BMI', 'HIV_AIDS', 'Income_composition_of_resources', 'Schooling')\n",
            "Average MSE: 13.24139609381137 with features: ('Year', 'Adult_Mortality', 'percentage_expenditure', 'BMI', 'Diphtheria', 'HIV_AIDS', 'Income_composition_of_resources', 'Schooling')\n",
            "Average MSE: 13.179954848368391 with features: ('Year', 'Adult_Mortality', 'Alcohol', 'percentage_expenditure', 'BMI', 'Diphtheria', 'HIV_AIDS', 'Income_composition_of_resources', 'Schooling')\n",
            "Average MSE: 13.136700962631831 with features: ('Year', 'Adult_Mortality', 'Alcohol', 'percentage_expenditure', 'BMI', 'Total_expenditure', 'Diphtheria', 'HIV_AIDS', 'Income_composition_of_resources', 'Schooling')\n",
            "Average MSE: 13.125304997928447 with features: ('Year', 'Adult_Mortality', 'Alcohol', 'percentage_expenditure', 'BMI', 'Diphtheria', 'HIV_AIDS', 'Income_composition_of_resources', 'Schooling', 'Health_Index')\n",
            "Average MSE: 13.083842012299225 with features: ('Year', 'Adult_Mortality', 'Alcohol', 'percentage_expenditure', 'BMI', 'Total_expenditure', 'Diphtheria', 'HIV_AIDS', 'Income_composition_of_resources', 'Schooling', 'Health_Index')\n",
            "Average MSE: 13.083462553140444 with features: ('Year', 'Adult_Mortality', 'Alcohol', 'percentage_expenditure', 'BMI', 'Total_expenditure', 'Diphtheria', 'HIV_AIDS', 'Population', 'Income_composition_of_resources', 'Schooling', 'Health_Index')\n",
            "Average MSE: 13.073277390701685 with features: ('Year', 'Adult_Mortality', 'Alcohol', 'percentage_expenditure', 'BMI', 'Total_expenditure', 'Diphtheria', 'HIV_AIDS', 'Income_composition_of_resources', 'Schooling', 'Health_Index', 'Status_Developing')\n",
            "Best feature combination: ('Year', 'Adult_Mortality', 'Alcohol', 'percentage_expenditure', 'BMI', 'Total_expenditure', 'Diphtheria', 'HIV_AIDS', 'Income_composition_of_resources', 'Schooling', 'Health_Index', 'Status_Developing')\n",
            "Corresponding MSE: 13.073277390701685\n"
          ]
        }
      ]
    },
    {
      "cell_type": "code",
      "execution_count": null,
      "metadata": {
        "id": "T3WWuFZ-eGGE",
        "colab": {
          "base_uri": "https://localhost:8080/"
        },
        "outputId": "a945c755-b910-414f-e40a-3eeeeecb1300"
      },
      "outputs": [
        {
          "output_type": "stream",
          "name": "stdout",
          "text": [
            "Best feature combination: ('Year', 'Adult_Mortality', 'Alcohol', 'percentage_expenditure', 'BMI', 'Total_expenditure', 'Diphtheria', 'HIV_AIDS', 'Income_composition_of_resources', 'Schooling', 'Health_Index', 'Status_Developing')\n",
            "Corresponding MSE: 13.073277390701685\n"
          ]
        }
      ],
      "source": [
        "# Print the best features and the corresponding mse\n",
        "### WRITE CODE ###\n",
        "print(\"Best feature combination:\", best_features)\n",
        "print(\"Corresponding MSE:\", best_mse)"
      ]
    },
    {
      "cell_type": "markdown",
      "metadata": {
        "id": "F-WBDncGtiY2"
      },
      "source": [
        "### Test your model\n",
        "Now, apply your best model to predict the target values from the test feature set \"LifeExpectancy_test_modified.csv\". We will grade this part based on your prediction error.\n",
        "\n",
        "Hint: Please be careful on standardization and one-hot encoding (if you use), the test set should be consistent with the training set in terms of any transformation.\n",
        "\n",
        "Hint2: You may want to modify the previous steps to make the transformation of the test set consistent with the training set."
      ]
    },
    {
      "cell_type": "code",
      "source": [
        "# Load training data\n",
        "train_df = pd.read_csv('LifeExpectancy_training_modified.csv')\n",
        "\n",
        "# One-hot encode categorical variables in training data\n",
        "encoder = OneHotEncoder(sparse_output=False)\n",
        "encoded_cols_train = encoder.fit_transform(train_df[['Status']])\n",
        "train_df_encoded = pd.concat([train_df, pd.DataFrame(encoded_cols_train, columns=encoder.get_feature_names_out(['Status']))], axis=1)\n",
        "train_df_encoded.drop(['Status'], axis=1, inplace=True)\n",
        "\n",
        "# Normalize specific columns in training data\n",
        "columns_to_normalize = ['HIV_AIDS', 'Diphtheria', 'Alcohol', 'Adult_Mortality']\n",
        "scaler = StandardScaler()\n",
        "train_df_encoded[columns_to_normalize] = scaler.fit_transform(train_df_encoded[columns_to_normalize])\n",
        "\n",
        "# Prepare features and target for model training\n",
        "X_train = train_df_encoded.drop(['Population', 'GDP', 'percentage_expenditure', 'Life_expectancy'], axis=1)\n",
        "Y_train = train_df['Life_expectancy']\n",
        "X_train = sm.add_constant(X_train)\n",
        "\n",
        "# Train the model\n",
        "model = sm.OLS(Y_train, X_train).fit()\n",
        "\n",
        "# Print model summary\n",
        "print(model.summary())\n"
      ],
      "metadata": {
        "colab": {
          "base_uri": "https://localhost:8080/"
        },
        "id": "fDkNB8nHSOcw",
        "outputId": "b989679d-1ed3-461c-d2d5-0901a797d22c"
      },
      "execution_count": null,
      "outputs": [
        {
          "output_type": "stream",
          "name": "stdout",
          "text": [
            "                            OLS Regression Results                            \n",
            "==============================================================================\n",
            "Dep. Variable:        Life_expectancy   R-squared:                       0.832\n",
            "Model:                            OLS   Adj. R-squared:                  0.830\n",
            "Method:                 Least Squares   F-statistic:                     473.8\n",
            "Date:                Mon, 20 Nov 2023   Prob (F-statistic):               0.00\n",
            "Time:                        02:54:09   Log-Likelihood:                -2882.5\n",
            "No. Observations:                1064   AIC:                             5789.\n",
            "Df Residuals:                    1052   BIC:                             5849.\n",
            "Df Model:                          11                                         \n",
            "Covariance Type:            nonrobust                                         \n",
            "===================================================================================================\n",
            "                                      coef    std err          t      P>|t|      [0.025      0.975]\n",
            "---------------------------------------------------------------------------------------------------\n",
            "const                             226.1809     43.052      5.254      0.000     141.703     310.658\n",
            "Year                               -0.1452      0.032     -4.503      0.000      -0.208      -0.082\n",
            "Adult_Mortality                    -2.0659      0.147    -14.087      0.000      -2.354      -1.778\n",
            "Alcohol                            -0.3977      0.165     -2.415      0.016      -0.721      -0.075\n",
            "BMI                                 0.0336      0.007      4.829      0.000       0.020       0.047\n",
            "Total_expenditure                   0.1302      0.050      2.584      0.010       0.031       0.229\n",
            "Diphtheria                          0.4781      0.121      3.938      0.000       0.240       0.716\n",
            "HIV_AIDS                           -2.6698      0.132    -20.171      0.000      -2.929      -2.410\n",
            "Income_composition_of_resources    12.4621      1.115     11.179      0.000      10.275      14.650\n",
            "Schooling                           0.9692      0.075     12.847      0.000       0.821       1.117\n",
            "Health_Index                        0.7819      0.395      1.981      0.048       0.008       1.556\n",
            "Status_Developed                  113.7031     21.532      5.281      0.000      71.454     155.953\n",
            "Status_Developing                 112.4778     21.522      5.226      0.000      70.246     154.710\n",
            "==============================================================================\n",
            "Omnibus:                       15.252   Durbin-Watson:                   2.081\n",
            "Prob(Omnibus):                  0.000   Jarque-Bera (JB):               25.793\n",
            "Skew:                          -0.026   Prob(JB):                     2.51e-06\n",
            "Kurtosis:                       3.761   Cond. No.                     6.90e+17\n",
            "==============================================================================\n",
            "\n",
            "Notes:\n",
            "[1] Standard Errors assume that the covariance matrix of the errors is correctly specified.\n",
            "[2] The smallest eigenvalue is 9.03e-27. This might indicate that there are\n",
            "strong multicollinearity problems or that the design matrix is singular.\n"
          ]
        }
      ]
    },
    {
      "cell_type": "code",
      "source": [
        "# Load test data\n",
        "test_df = pd.read_csv('LifeExpectancy_test_modified.csv')\n",
        "\n",
        "# Apply one-hot encoding to test data using the fitted encoder\n",
        "encoded_cols_test = encoder.transform(test_df[['Status']])\n",
        "test_df_encoded = pd.concat([test_df, pd.DataFrame(encoded_cols_test,\n",
        "                                                   columns=encoder.get_feature_names_out(['Status']))], axis=1)\n",
        "test_df_encoded.drop(['Status'], axis=1, inplace=True)\n",
        "\n",
        "# Apply normalization to test data using the fitted scaler\n",
        "test_df_encoded[columns_to_normalize] = scaler.transform(test_df_encoded[columns_to_normalize])\n",
        "\n",
        "# Prepare test features\n",
        "X_test = test_df_encoded.drop(['Population', 'GDP', 'percentage_expenditure'], axis=1)\n",
        "X_test = sm.add_constant(X_test)\n",
        "\n",
        "# Make predictions\n",
        "y_pred = model.predict(X_test)\n",
        "\n",
        "# Output predictions\n",
        "print(y_pred)"
      ],
      "metadata": {
        "colab": {
          "base_uri": "https://localhost:8080/"
        },
        "id": "VY1eU9qgRWRn",
        "outputId": "c4cf50a7-1500-4fbe-f166-fc6e7a3bc6e9"
      },
      "execution_count": null,
      "outputs": [
        {
          "output_type": "stream",
          "name": "stdout",
          "text": [
            "0      61.414632\n",
            "1      60.378624\n",
            "2      72.071493\n",
            "3      71.234038\n",
            "4      71.087999\n",
            "         ...    \n",
            "453    61.205604\n",
            "454    50.527537\n",
            "455    49.709547\n",
            "456    44.783718\n",
            "457    38.324829\n",
            "Length: 458, dtype: float64\n"
          ]
        }
      ]
    },
    {
      "cell_type": "markdown",
      "source": [
        "**Summary**\n",
        "We trained the data and developed an optimal model which included statistical transformations (encoding categorical variable, and normalizing highly skewed variables) and selecting features that are not perfectly correlated, are significant and have high impact on predicting target variable, i.e. high coefficients. The model was then employed to perform multiple linear regression analysis on the test dataset. <br>\n",
        "In addition, we performed K-fold analysis, however, we did not used all the variables as it was stated in spite of the fact that MSE was minimum. The reasons are low value of coefficient (close to 0) and high t-stat p-value. <br>\n",
        "The careful selection and refinement of the model, guided by reference statistics from the training phase, ensured a robust framework for making predictions on new, untrained data in the test set. This approach underscores the effective utilization of training data insights to build a model with strong generalization capabilities, subsequently applied to the test data for regression analysis."
      ],
      "metadata": {
        "id": "9wRh64RCTTZr"
      }
    },
    {
      "cell_type": "code",
      "source": [],
      "metadata": {
        "id": "eT00NMbU3zBH"
      },
      "execution_count": null,
      "outputs": []
    },
    {
      "cell_type": "code",
      "source": [],
      "metadata": {
        "id": "xatjbwlc3zFg"
      },
      "execution_count": null,
      "outputs": []
    },
    {
      "cell_type": "code",
      "source": [],
      "metadata": {
        "id": "PHtVrgMy3zIY"
      },
      "execution_count": null,
      "outputs": []
    },
    {
      "cell_type": "code",
      "source": [],
      "metadata": {
        "id": "2mOeZ0sL3zLA"
      },
      "execution_count": null,
      "outputs": []
    },
    {
      "cell_type": "code",
      "source": [],
      "metadata": {
        "id": "EpNoiR_H3zOH"
      },
      "execution_count": null,
      "outputs": []
    }
  ],
  "metadata": {
    "colab": {
      "provenance": [],
      "include_colab_link": true
    },
    "kernelspec": {
      "display_name": "Python 3",
      "language": "python",
      "name": "python3"
    },
    "language_info": {
      "codemirror_mode": {
        "name": "ipython",
        "version": 3
      },
      "file_extension": ".py",
      "mimetype": "text/x-python",
      "name": "python",
      "nbconvert_exporter": "python",
      "pygments_lexer": "ipython3",
      "version": "3.8.3"
    }
  },
  "nbformat": 4,
  "nbformat_minor": 0
}
